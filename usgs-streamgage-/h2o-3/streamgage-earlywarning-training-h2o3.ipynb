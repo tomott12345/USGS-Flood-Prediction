{
 "cells": [
  {
   "cell_type": "code",
   "execution_count": 42,
   "id": "b1918fb8",
   "metadata": {},
   "outputs": [],
   "source": [
    "import pandas as pd\n",
    "from datetime import datetime\n",
    "import matplotlib.pyplot as plt\n",
    "import h2o\n",
    "from h2o.automl import H2OAutoML\n",
    "\n",
    "%matplotlib inline"
   ]
  },
  {
   "cell_type": "code",
   "execution_count": 43,
   "id": "e61c9992",
   "metadata": {},
   "outputs": [],
   "source": [
    "# Enter the begin and end dates for the gage and flow data\n",
    "\n",
    "begin_date = '2023-01-01T00:00:00.000-05:00'\n",
    "end_date = '2024-08-28T00:00:00.000-05:00'\n",
    "\n",
    "#01473730 - Schuylkill River at Conshohocken, PA"
   ]
  },
  {
   "cell_type": "code",
   "execution_count": 44,
   "id": "7f35752c",
   "metadata": {},
   "outputs": [],
   "source": [
    "#Read in raw stream gage data\n",
    "gage = pd.read_csv('https://nwis.waterservices.usgs.gov/nwis/iv/?sites=01473730&parameterCd=00065&startDT='+begin_date+'&endDT='+end_date+'&siteStatus=all&format=rdb', sep='\\t', skiprows=26)\n",
    "gage = gage.iloc[1: , :]\n"
   ]
  },
  {
   "cell_type": "code",
   "execution_count": 45,
   "id": "4105abd4-1a94-457f-b80c-20dce7163608",
   "metadata": {},
   "outputs": [
    {
     "data": {
      "text/html": [
       "<div>\n",
       "<style scoped>\n",
       "    .dataframe tbody tr th:only-of-type {\n",
       "        vertical-align: middle;\n",
       "    }\n",
       "\n",
       "    .dataframe tbody tr th {\n",
       "        vertical-align: top;\n",
       "    }\n",
       "\n",
       "    .dataframe thead th {\n",
       "        text-align: right;\n",
       "    }\n",
       "</style>\n",
       "<table border=\"1\" class=\"dataframe\">\n",
       "  <thead>\n",
       "    <tr style=\"text-align: right;\">\n",
       "      <th></th>\n",
       "      <th>328674_00065</th>\n",
       "    </tr>\n",
       "    <tr>\n",
       "      <th>datetime</th>\n",
       "      <th></th>\n",
       "    </tr>\n",
       "  </thead>\n",
       "  <tbody>\n",
       "    <tr>\n",
       "      <th>2023-05-16 12:45</th>\n",
       "      <td>7.18</td>\n",
       "    </tr>\n",
       "    <tr>\n",
       "      <th>2023-05-16 13:15</th>\n",
       "      <td>7.18</td>\n",
       "    </tr>\n",
       "    <tr>\n",
       "      <th>2023-05-16 13:30</th>\n",
       "      <td>7.19</td>\n",
       "    </tr>\n",
       "    <tr>\n",
       "      <th>2023-05-16 13:45</th>\n",
       "      <td>7.19</td>\n",
       "    </tr>\n",
       "    <tr>\n",
       "      <th>2023-05-16 14:00</th>\n",
       "      <td>7.16</td>\n",
       "    </tr>\n",
       "  </tbody>\n",
       "</table>\n",
       "</div>"
      ],
      "text/plain": [
       "                  328674_00065\n",
       "datetime                      \n",
       "2023-05-16 12:45          7.18\n",
       "2023-05-16 13:15          7.18\n",
       "2023-05-16 13:30          7.19\n",
       "2023-05-16 13:45          7.19\n",
       "2023-05-16 14:00          7.16"
      ]
     },
     "execution_count": 45,
     "metadata": {},
     "output_type": "execute_result"
    }
   ],
   "source": [
    "gage['328674_00065'] = gage['328674_00065'].astype(float)\n",
    "gage = gage[['datetime','328674_00065']]\n",
    "gage = gage.set_index('datetime')\n",
    "gage.head()"
   ]
  },
  {
   "cell_type": "code",
   "execution_count": 46,
   "id": "241ac55f",
   "metadata": {},
   "outputs": [],
   "source": [
    "#Read in raw flow data\n",
    "flow = pd.read_csv('https://waterservices.usgs.gov/nwis/iv/?sites=01473730&parameterCd=00060&startDT='+begin_date+'&endDT='+end_date+'&siteStatus=all&format=rdb', sep='\\t', skiprows=26)\n",
    "flow = flow.iloc[1: , :]"
   ]
  },
  {
   "cell_type": "code",
   "execution_count": 47,
   "id": "37d28bf9-c76b-45f2-8d1a-ef5670a30ff5",
   "metadata": {},
   "outputs": [
    {
     "data": {
      "text/html": [
       "<div>\n",
       "<style scoped>\n",
       "    .dataframe tbody tr th:only-of-type {\n",
       "        vertical-align: middle;\n",
       "    }\n",
       "\n",
       "    .dataframe tbody tr th {\n",
       "        vertical-align: top;\n",
       "    }\n",
       "\n",
       "    .dataframe thead th {\n",
       "        text-align: right;\n",
       "    }\n",
       "</style>\n",
       "<table border=\"1\" class=\"dataframe\">\n",
       "  <thead>\n",
       "    <tr style=\"text-align: right;\">\n",
       "      <th></th>\n",
       "      <th>328771_00060</th>\n",
       "    </tr>\n",
       "    <tr>\n",
       "      <th>datetime</th>\n",
       "      <th></th>\n",
       "    </tr>\n",
       "  </thead>\n",
       "  <tbody>\n",
       "    <tr>\n",
       "      <th>2023-05-16 12:45</th>\n",
       "      <td>1400.0</td>\n",
       "    </tr>\n",
       "    <tr>\n",
       "      <th>2023-05-16 13:15</th>\n",
       "      <td>1400.0</td>\n",
       "    </tr>\n",
       "    <tr>\n",
       "      <th>2023-05-16 13:30</th>\n",
       "      <td>1410.0</td>\n",
       "    </tr>\n",
       "    <tr>\n",
       "      <th>2023-05-16 13:45</th>\n",
       "      <td>1410.0</td>\n",
       "    </tr>\n",
       "    <tr>\n",
       "      <th>2023-05-16 14:00</th>\n",
       "      <td>1370.0</td>\n",
       "    </tr>\n",
       "  </tbody>\n",
       "</table>\n",
       "</div>"
      ],
      "text/plain": [
       "                  328771_00060\n",
       "datetime                      \n",
       "2023-05-16 12:45        1400.0\n",
       "2023-05-16 13:15        1400.0\n",
       "2023-05-16 13:30        1410.0\n",
       "2023-05-16 13:45        1410.0\n",
       "2023-05-16 14:00        1370.0"
      ]
     },
     "execution_count": 47,
     "metadata": {},
     "output_type": "execute_result"
    }
   ],
   "source": [
    "flow['328771_00060'] = flow['328771_00060'].astype(float)\n",
    "flow = flow[['datetime','328771_00060']]\n",
    "flow = flow.set_index('datetime')\n",
    "flow.head()"
   ]
  },
  {
   "cell_type": "code",
   "execution_count": 48,
   "id": "637e2e75",
   "metadata": {},
   "outputs": [
    {
     "data": {
      "text/html": [
       "<div>\n",
       "<style scoped>\n",
       "    .dataframe tbody tr th:only-of-type {\n",
       "        vertical-align: middle;\n",
       "    }\n",
       "\n",
       "    .dataframe tbody tr th {\n",
       "        vertical-align: top;\n",
       "    }\n",
       "\n",
       "    .dataframe thead th {\n",
       "        text-align: right;\n",
       "    }\n",
       "</style>\n",
       "<table border=\"1\" class=\"dataframe\">\n",
       "  <thead>\n",
       "    <tr style=\"text-align: right;\">\n",
       "      <th></th>\n",
       "      <th>328674_00065</th>\n",
       "      <th>328771_00060</th>\n",
       "    </tr>\n",
       "    <tr>\n",
       "      <th>datetime</th>\n",
       "      <th></th>\n",
       "      <th></th>\n",
       "    </tr>\n",
       "  </thead>\n",
       "  <tbody>\n",
       "    <tr>\n",
       "      <th>2023-05-16 12:45</th>\n",
       "      <td>7.18</td>\n",
       "      <td>1400.0</td>\n",
       "    </tr>\n",
       "    <tr>\n",
       "      <th>2023-05-16 13:15</th>\n",
       "      <td>7.18</td>\n",
       "      <td>1400.0</td>\n",
       "    </tr>\n",
       "    <tr>\n",
       "      <th>2023-05-16 13:30</th>\n",
       "      <td>7.19</td>\n",
       "      <td>1410.0</td>\n",
       "    </tr>\n",
       "    <tr>\n",
       "      <th>2023-05-16 13:45</th>\n",
       "      <td>7.19</td>\n",
       "      <td>1410.0</td>\n",
       "    </tr>\n",
       "    <tr>\n",
       "      <th>2023-05-16 14:00</th>\n",
       "      <td>7.16</td>\n",
       "      <td>1370.0</td>\n",
       "    </tr>\n",
       "  </tbody>\n",
       "</table>\n",
       "</div>"
      ],
      "text/plain": [
       "                  328674_00065  328771_00060\n",
       "datetime                                    \n",
       "2023-05-16 12:45          7.18        1400.0\n",
       "2023-05-16 13:15          7.18        1400.0\n",
       "2023-05-16 13:30          7.19        1410.0\n",
       "2023-05-16 13:45          7.19        1410.0\n",
       "2023-05-16 14:00          7.16        1370.0"
      ]
     },
     "execution_count": 48,
     "metadata": {},
     "output_type": "execute_result"
    }
   ],
   "source": [
    "# Merge datasets together on datetime index and check if everything is good\n",
    "df=pd.merge(gage, flow, how='inner', left_index=True, right_index=True)\n",
    "df.head()"
   ]
  },
  {
   "cell_type": "code",
   "execution_count": 49,
   "id": "93762981",
   "metadata": {},
   "outputs": [
    {
     "data": {
      "text/html": [
       "<div>\n",
       "<style scoped>\n",
       "    .dataframe tbody tr th:only-of-type {\n",
       "        vertical-align: middle;\n",
       "    }\n",
       "\n",
       "    .dataframe tbody tr th {\n",
       "        vertical-align: top;\n",
       "    }\n",
       "\n",
       "    .dataframe thead th {\n",
       "        text-align: right;\n",
       "    }\n",
       "</style>\n",
       "<table border=\"1\" class=\"dataframe\">\n",
       "  <thead>\n",
       "    <tr style=\"text-align: right;\">\n",
       "      <th></th>\n",
       "      <th>Gage</th>\n",
       "      <th>Flow</th>\n",
       "    </tr>\n",
       "    <tr>\n",
       "      <th>datetime</th>\n",
       "      <th></th>\n",
       "      <th></th>\n",
       "    </tr>\n",
       "  </thead>\n",
       "  <tbody>\n",
       "    <tr>\n",
       "      <th>2023-05-16 12:45</th>\n",
       "      <td>7.18</td>\n",
       "      <td>1400.0</td>\n",
       "    </tr>\n",
       "    <tr>\n",
       "      <th>2023-05-16 13:15</th>\n",
       "      <td>7.18</td>\n",
       "      <td>1400.0</td>\n",
       "    </tr>\n",
       "    <tr>\n",
       "      <th>2023-05-16 13:30</th>\n",
       "      <td>7.19</td>\n",
       "      <td>1410.0</td>\n",
       "    </tr>\n",
       "    <tr>\n",
       "      <th>2023-05-16 13:45</th>\n",
       "      <td>7.19</td>\n",
       "      <td>1410.0</td>\n",
       "    </tr>\n",
       "    <tr>\n",
       "      <th>2023-05-16 14:00</th>\n",
       "      <td>7.16</td>\n",
       "      <td>1370.0</td>\n",
       "    </tr>\n",
       "  </tbody>\n",
       "</table>\n",
       "</div>"
      ],
      "text/plain": [
       "                  Gage    Flow\n",
       "datetime                      \n",
       "2023-05-16 12:45  7.18  1400.0\n",
       "2023-05-16 13:15  7.18  1400.0\n",
       "2023-05-16 13:30  7.19  1410.0\n",
       "2023-05-16 13:45  7.19  1410.0\n",
       "2023-05-16 14:00  7.16  1370.0"
      ]
     },
     "execution_count": 49,
     "metadata": {},
     "output_type": "execute_result"
    }
   ],
   "source": [
    "# Rename gage and flow rate colums to something humane and check the dataframe\n",
    "df = df.rename(columns={\"328674_00065\": \"Gage\", \"328771_00060\": \"Flow\"  })\n",
    "df.head()"
   ]
  },
  {
   "cell_type": "code",
   "execution_count": 50,
   "id": "62ad22ed",
   "metadata": {},
   "outputs": [
    {
     "name": "stdout",
     "output_type": "stream",
     "text": [
      "number of rows =  45920\n"
     ]
    }
   ],
   "source": [
    "#check the number of training rows\n",
    "print('number of rows = ', df.shape[0])"
   ]
  },
  {
   "cell_type": "code",
   "execution_count": 51,
   "id": "0d0604e8",
   "metadata": {},
   "outputs": [],
   "source": [
    "# Shift Gage readings by X time units and set as training label, calculate gage and flow rates of change \n",
    "def gage_forecast(df, forecast):\n",
    "    df['Gage_forecast_'+str(forecast)] = df['Gage'].shift(-forecast)\n",
    "    df['Gage_forecast_'+str(forecast_horizon)] = df['Gage_forecast_'+str(forecast_horizon)]\n",
    "    df['Gage_diff'] = df['Gage'].shift(-1) - df['Gage']\n",
    "    df['Flow_diff'] = df['Flow'].shift(-1) - df['Flow']\n",
    "    df.drop(df.tail(forecast).index,inplace=True) # drop last n rows\n",
    "    return df"
   ]
  },
  {
   "cell_type": "code",
   "execution_count": 52,
   "id": "d00aaa0e",
   "metadata": {},
   "outputs": [],
   "source": [
    "# Set the forecast horizon. Note this is in time units, each time unit is 15 minutes. \n",
    "forecast_horizon = 12"
   ]
  },
  {
   "cell_type": "code",
   "execution_count": 53,
   "id": "b473243f",
   "metadata": {},
   "outputs": [
    {
     "data": {
      "text/html": [
       "<div>\n",
       "<style scoped>\n",
       "    .dataframe tbody tr th:only-of-type {\n",
       "        vertical-align: middle;\n",
       "    }\n",
       "\n",
       "    .dataframe tbody tr th {\n",
       "        vertical-align: top;\n",
       "    }\n",
       "\n",
       "    .dataframe thead th {\n",
       "        text-align: right;\n",
       "    }\n",
       "</style>\n",
       "<table border=\"1\" class=\"dataframe\">\n",
       "  <thead>\n",
       "    <tr style=\"text-align: right;\">\n",
       "      <th></th>\n",
       "      <th>Gage</th>\n",
       "      <th>Flow</th>\n",
       "      <th>Gage_forecast_12</th>\n",
       "      <th>Gage_diff</th>\n",
       "      <th>Flow_diff</th>\n",
       "    </tr>\n",
       "    <tr>\n",
       "      <th>datetime</th>\n",
       "      <th></th>\n",
       "      <th></th>\n",
       "      <th></th>\n",
       "      <th></th>\n",
       "      <th></th>\n",
       "    </tr>\n",
       "  </thead>\n",
       "  <tbody>\n",
       "    <tr>\n",
       "      <th>2024-08-25 21:15</th>\n",
       "      <td>6.75</td>\n",
       "      <td>804.0</td>\n",
       "      <td>6.78</td>\n",
       "      <td>0.01</td>\n",
       "      <td>13.0</td>\n",
       "    </tr>\n",
       "    <tr>\n",
       "      <th>2024-08-25 21:30</th>\n",
       "      <td>6.76</td>\n",
       "      <td>817.0</td>\n",
       "      <td>6.78</td>\n",
       "      <td>0.00</td>\n",
       "      <td>0.0</td>\n",
       "    </tr>\n",
       "    <tr>\n",
       "      <th>2024-08-25 21:45</th>\n",
       "      <td>6.76</td>\n",
       "      <td>817.0</td>\n",
       "      <td>6.77</td>\n",
       "      <td>-0.01</td>\n",
       "      <td>-13.0</td>\n",
       "    </tr>\n",
       "    <tr>\n",
       "      <th>2024-08-25 22:00</th>\n",
       "      <td>6.75</td>\n",
       "      <td>804.0</td>\n",
       "      <td>6.78</td>\n",
       "      <td>0.00</td>\n",
       "      <td>0.0</td>\n",
       "    </tr>\n",
       "    <tr>\n",
       "      <th>2024-08-25 22:15</th>\n",
       "      <td>6.75</td>\n",
       "      <td>804.0</td>\n",
       "      <td>6.77</td>\n",
       "      <td>0.00</td>\n",
       "      <td>0.0</td>\n",
       "    </tr>\n",
       "    <tr>\n",
       "      <th>...</th>\n",
       "      <td>...</td>\n",
       "      <td>...</td>\n",
       "      <td>...</td>\n",
       "      <td>...</td>\n",
       "      <td>...</td>\n",
       "    </tr>\n",
       "    <tr>\n",
       "      <th>2024-08-27 21:00</th>\n",
       "      <td>6.73</td>\n",
       "      <td>779.0</td>\n",
       "      <td>6.73</td>\n",
       "      <td>0.00</td>\n",
       "      <td>0.0</td>\n",
       "    </tr>\n",
       "    <tr>\n",
       "      <th>2024-08-27 21:15</th>\n",
       "      <td>6.73</td>\n",
       "      <td>779.0</td>\n",
       "      <td>6.73</td>\n",
       "      <td>0.00</td>\n",
       "      <td>0.0</td>\n",
       "    </tr>\n",
       "    <tr>\n",
       "      <th>2024-08-27 21:30</th>\n",
       "      <td>6.73</td>\n",
       "      <td>779.0</td>\n",
       "      <td>6.72</td>\n",
       "      <td>0.00</td>\n",
       "      <td>0.0</td>\n",
       "    </tr>\n",
       "    <tr>\n",
       "      <th>2024-08-27 21:45</th>\n",
       "      <td>6.73</td>\n",
       "      <td>779.0</td>\n",
       "      <td>6.74</td>\n",
       "      <td>0.00</td>\n",
       "      <td>0.0</td>\n",
       "    </tr>\n",
       "    <tr>\n",
       "      <th>2024-08-27 22:00</th>\n",
       "      <td>6.73</td>\n",
       "      <td>779.0</td>\n",
       "      <td>6.73</td>\n",
       "      <td>-0.02</td>\n",
       "      <td>-25.0</td>\n",
       "    </tr>\n",
       "  </tbody>\n",
       "</table>\n",
       "<p>200 rows × 5 columns</p>\n",
       "</div>"
      ],
      "text/plain": [
       "                  Gage   Flow  Gage_forecast_12  Gage_diff  Flow_diff\n",
       "datetime                                                             \n",
       "2024-08-25 21:15  6.75  804.0              6.78       0.01       13.0\n",
       "2024-08-25 21:30  6.76  817.0              6.78       0.00        0.0\n",
       "2024-08-25 21:45  6.76  817.0              6.77      -0.01      -13.0\n",
       "2024-08-25 22:00  6.75  804.0              6.78       0.00        0.0\n",
       "2024-08-25 22:15  6.75  804.0              6.77       0.00        0.0\n",
       "...                ...    ...               ...        ...        ...\n",
       "2024-08-27 21:00  6.73  779.0              6.73       0.00        0.0\n",
       "2024-08-27 21:15  6.73  779.0              6.73       0.00        0.0\n",
       "2024-08-27 21:30  6.73  779.0              6.72       0.00        0.0\n",
       "2024-08-27 21:45  6.73  779.0              6.74       0.00        0.0\n",
       "2024-08-27 22:00  6.73  779.0              6.73      -0.02      -25.0\n",
       "\n",
       "[200 rows x 5 columns]"
      ]
     },
     "execution_count": 53,
     "metadata": {},
     "output_type": "execute_result"
    }
   ],
   "source": [
    "# Process gage forecast and check results\n",
    "df = gage_forecast(df, forecast_horizon)\n",
    "df.tail(200)"
   ]
  },
  {
   "cell_type": "code",
   "execution_count": 54,
   "id": "6274c8bc",
   "metadata": {},
   "outputs": [],
   "source": [
    "#df.to_csv('data/checkgagediff.csv')"
   ]
  },
  {
   "cell_type": "code",
   "execution_count": 55,
   "id": "1fb1906a",
   "metadata": {},
   "outputs": [
    {
     "data": {
      "image/png": "[encoded data removed]",
      "text/plain": [
       "<Figure size 640x480 with 3 Axes>"
      ]
     },
     "metadata": {},
     "output_type": "display_data"
    }
   ],
   "source": [
    "# Make a quick visual of stacked charts - this is a reality check\n",
    "values = df.values\n",
    "groups = [0,1,2,]\n",
    "i = 1\n",
    "# plot each column\n",
    "plt.figure()\n",
    "for group in groups:\n",
    "    plt.subplot(len(groups), 1, i)\n",
    "    plt.plot(values[:, group])\n",
    "    plt.title(df.columns[group], y=0.5, loc='right')\n",
    "    i += 1\n",
    "plt.show()"
   ]
  },
  {
   "cell_type": "code",
   "execution_count": 56,
   "id": "590f19ae",
   "metadata": {},
   "outputs": [
    {
     "data": {
      "text/plain": [
       "Text(0, 0.5, 'Gage (ft)')"
      ]
     },
     "execution_count": 56,
     "metadata": {},
     "output_type": "execute_result"
    },
    {
     "data": {
      "image/png": "[encoded data removed]",
      "text/plain": [
       "<Figure size 1000x600 with 1 Axes>"
      ]
     },
     "metadata": {},
     "output_type": "display_data"
    }
   ],
   "source": [
    "# Check if gage forecast is shifted from gage reading\n",
    "plt.figure(figsize=(10,6))\n",
    "plt.plot(df['Gage'].tail(100))\n",
    "plt.plot(df['Gage_forecast_'+str(forecast_horizon)].tail(100), color = 'orange')\n",
    "plt.xlabel('Datetime')\n",
    "plt.ylabel('Gage (ft)')"
   ]
  },
  {
   "cell_type": "code",
   "execution_count": 57,
   "id": "62f7c961",
   "metadata": {},
   "outputs": [],
   "source": [
    "#Split dataset into training and testing set\n",
    "df.reset_index(drop=True,inplace=True)\n",
    "df_train = df.loc[:int(df.shape[0]*0.8),:]\n",
    "df_test = df.loc[int(df.shape[0]*0.8):,:]"
   ]
  },
  {
   "cell_type": "code",
   "execution_count": 58,
   "id": "d706deda",
   "metadata": {},
   "outputs": [
    {
     "data": {
      "image/png": "[encoded data removed]",
      "text/plain": [
       "<Figure size 1000x600 with 1 Axes>"
      ]
     },
     "metadata": {},
     "output_type": "display_data"
    }
   ],
   "source": [
    "#Check dataset\n",
    "plt.figure(figsize=(10,6))\n",
    "plt.plot(df_train.index,df_train['Gage_forecast_'+str(forecast_horizon)])\n",
    "plt.plot(df_test.index,df_test['Gage_forecast_'+str(forecast_horizon)])\n",
    "plt.ylabel('Gage_forecast_'+str(forecast_horizon),fontsize=18)\n",
    "plt.legend(['train','test'])\n",
    "plt.show()"
   ]
  },
  {
   "cell_type": "code",
   "execution_count": 59,
   "id": "7d21569c",
   "metadata": {},
   "outputs": [
    {
     "name": "stdout",
     "output_type": "stream",
     "text": [
      "Checking whether there is an H2O instance running at http://localhost:54321..... not found.\n",
      "Attempting to start a local H2O server...\n",
      "  Java Version: java version \"1.8.0_411\"; Java(TM) SE Runtime Environment (build 1.8.0_411-b09); Java HotSpot(TM) 64-Bit Server VM (build 25.411-b09, mixed mode)\n",
      "  Starting server from /Users/tott/opt/anaconda3/envs/py310/lib/python3.10/site-packages/h2o/backend/bin/h2o.jar\n",
      "  Ice root: /var/folders/39/8gc7tmt964lf1zccbqy781gm0000gp/T/tmpyv0yklii\n",
      "  JVM stdout: /var/folders/39/8gc7tmt964lf1zccbqy781gm0000gp/T/tmpyv0yklii/h2o_tott_started_from_python.out\n",
      "  JVM stderr: /var/folders/39/8gc7tmt964lf1zccbqy781gm0000gp/T/tmpyv0yklii/h2o_tott_started_from_python.err\n",
      "  Server is running at http://127.0.0.1:54321\n",
      "Connecting to H2O server at http://127.0.0.1:54321 ... successful.\n",
      "Warning: Your H2O cluster version is (8 months and 7 days) old.  There may be a newer version available.\n",
      "Please download and install the latest version from: https://h2o-release.s3.amazonaws.com/h2o/latest_stable.html\n"
     ]
    },
    {
     "data": {
      "text/html": [
       "\n",
       "<style>\n",
       "\n",
       "#h2o-table-5.h2o-container {\n",
       "  overflow-x: auto;\n",
       "}\n",
       "#h2o-table-5 .h2o-table {\n",
       "  /* width: 100%; */\n",
       "  margin-top: 1em;\n",
       "  margin-bottom: 1em;\n",
       "}\n",
       "#h2o-table-5 .h2o-table caption {\n",
       "  white-space: nowrap;\n",
       "  caption-side: top;\n",
       "  text-align: left;\n",
       "  /* margin-left: 1em; */\n",
       "  margin: 0;\n",
       "  font-size: larger;\n",
       "}\n",
       "#h2o-table-5 .h2o-table thead {\n",
       "  white-space: nowrap; \n",
       "  position: sticky;\n",
       "  top: 0;\n",
       "  box-shadow: 0 -1px inset;\n",
       "}\n",
       "#h2o-table-5 .h2o-table tbody {\n",
       "  overflow: auto;\n",
       "}\n",
       "#h2o-table-5 .h2o-table th,\n",
       "#h2o-table-5 .h2o-table td {\n",
       "  text-align: right;\n",
       "  /* border: 1px solid; */\n",
       "}\n",
       "#h2o-table-5 .h2o-table tr:nth-child(even) {\n",
       "  /* background: #F5F5F5 */\n",
       "}\n",
       "\n",
       "</style>      \n",
       "<div id=\"h2o-table-5\" class=\"h2o-container\">\n",
       "  <table class=\"h2o-table\">\n",
       "    <caption></caption>\n",
       "    <thead></thead>\n",
       "    <tbody><tr><td>H2O_cluster_uptime:</td>\n",
       "<td>04 secs</td></tr>\n",
       "<tr><td>H2O_cluster_timezone:</td>\n",
       "<td>America/New_York</td></tr>\n",
       "<tr><td>H2O_data_parsing_timezone:</td>\n",
       "<td>UTC</td></tr>\n",
       "<tr><td>H2O_cluster_version:</td>\n",
       "<td>3.44.0.3</td></tr>\n",
       "<tr><td>H2O_cluster_version_age:</td>\n",
       "<td>8 months and 7 days</td></tr>\n",
       "<tr><td>H2O_cluster_name:</td>\n",
       "<td>H2O_from_python_tott_xg3jn0</td></tr>\n",
       "<tr><td>H2O_cluster_total_nodes:</td>\n",
       "<td>1</td></tr>\n",
       "<tr><td>H2O_cluster_free_memory:</td>\n",
       "<td>3.541 Gb</td></tr>\n",
       "<tr><td>H2O_cluster_total_cores:</td>\n",
       "<td>10</td></tr>\n",
       "<tr><td>H2O_cluster_allowed_cores:</td>\n",
       "<td>10</td></tr>\n",
       "<tr><td>H2O_cluster_status:</td>\n",
       "<td>locked, healthy</td></tr>\n",
       "<tr><td>H2O_connection_url:</td>\n",
       "<td>http://127.0.0.1:54321</td></tr>\n",
       "<tr><td>H2O_connection_proxy:</td>\n",
       "<td>{\"http\": null, \"https\": null}</td></tr>\n",
       "<tr><td>H2O_internal_security:</td>\n",
       "<td>False</td></tr>\n",
       "<tr><td>Python_version:</td>\n",
       "<td>3.10.11 final</td></tr></tbody>\n",
       "  </table>\n",
       "</div>\n"
      ],
      "text/plain": [
       "--------------------------  -----------------------------\n",
       "H2O_cluster_uptime:         04 secs\n",
       "H2O_cluster_timezone:       America/New_York\n",
       "H2O_data_parsing_timezone:  UTC\n",
       "H2O_cluster_version:        3.44.0.3\n",
       "H2O_cluster_version_age:    8 months and 7 days\n",
       "H2O_cluster_name:           H2O_from_python_tott_xg3jn0\n",
       "H2O_cluster_total_nodes:    1\n",
       "H2O_cluster_free_memory:    3.541 Gb\n",
       "H2O_cluster_total_cores:    10\n",
       "H2O_cluster_allowed_cores:  10\n",
       "H2O_cluster_status:         locked, healthy\n",
       "H2O_connection_url:         http://127.0.0.1:54321\n",
       "H2O_connection_proxy:       {\"http\": null, \"https\": null}\n",
       "H2O_internal_security:      False\n",
       "Python_version:             3.10.11 final\n",
       "--------------------------  -----------------------------"
      ]
     },
     "metadata": {},
     "output_type": "display_data"
    }
   ],
   "source": [
    "# Initialize H2O-3 on single node\n",
    "h2o.init(nthreads=-1)"
   ]
  },
  {
   "cell_type": "code",
   "execution_count": 60,
   "id": "a793f60e",
   "metadata": {},
   "outputs": [
    {
     "name": "stdout",
     "output_type": "stream",
     "text": [
      "Parse progress: |████████████████████████████████████████████████████████████████| (done) 100%\n",
      "Parse progress: |████████████████████████████████████████████████████████████████| (done) 100%\n"
     ]
    }
   ],
   "source": [
    "# Load datesets into H2O frames\n",
    "hf_train = h2o.H2OFrame(df_train)\n",
    "hf_test = h2o.H2OFrame(df_test)"
   ]
  },
  {
   "cell_type": "code",
   "execution_count": 61,
   "id": "223bcfc3",
   "metadata": {},
   "outputs": [
    {
     "data": {
      "text/html": [
       "<pre style='margin: 1em 0 1em 0;'>Rows:36727\n",
       "Cols:5\n",
       "</pre>"
      ],
      "text/plain": [
       "Rows:36727\n",
       "Cols:5\n"
      ]
     },
     "metadata": {},
     "output_type": "display_data"
    },
    {
     "data": {
      "text/html": [
       "<table class='dataframe'>\n",
       "<thead>\n",
       "<tr><th>       </th><th>Gage             </th><th>Flow              </th><th>Gage_forecast_12  </th><th>Gage_diff            </th><th>Flow_diff           </th></tr>\n",
       "</thead>\n",
       "<tbody>\n",
       "<tr><td>type   </td><td>real             </td><td>int               </td><td>real              </td><td>real                 </td><td>int                 </td></tr>\n",
       "<tr><td>mins   </td><td>6.55             </td><td>578.0             </td><td>6.55              </td><td>-0.2900000000000027  </td><td>-1100.0             </td></tr>\n",
       "<tr><td>mean   </td><td>8.457151414490692</td><td>3691.3283960029103</td><td>8.457245623111117 </td><td>7.896098238353596e-06</td><td>0.011980286982327703</td></tr>\n",
       "<tr><td>maxs   </td><td>23.59            </td><td>51100.0           </td><td>23.59             </td><td>0.6899999999999995   </td><td>2500.0              </td></tr>\n",
       "<tr><td>sigma  </td><td>2.14470318465877 </td><td>4951.220051301692 </td><td>2.1446531880317976</td><td>0.0347903131765947   </td><td>98.80782893574614   </td></tr>\n",
       "<tr><td>zeros  </td><td>0                </td><td>0                 </td><td>0                 </td><td>16060                </td><td>16379               </td></tr>\n",
       "<tr><td>missing</td><td>0                </td><td>0                 </td><td>0                 </td><td>0                    </td><td>0                   </td></tr>\n",
       "<tr><td>0      </td><td>7.18             </td><td>1400.0            </td><td>7.17              </td><td>0.0                  </td><td>0.0                 </td></tr>\n",
       "<tr><td>1      </td><td>7.18             </td><td>1400.0            </td><td>7.14              </td><td>0.010000000000000677 </td><td>10.0                </td></tr>\n",
       "<tr><td>2      </td><td>7.19             </td><td>1410.0            </td><td>7.17              </td><td>0.0                  </td><td>0.0                 </td></tr>\n",
       "<tr><td>3      </td><td>7.19             </td><td>1410.0            </td><td>7.15              </td><td>-0.03000000000000025 </td><td>-40.0               </td></tr>\n",
       "<tr><td>4      </td><td>7.16             </td><td>1370.0            </td><td>7.17              </td><td>0.0                  </td><td>0.0                 </td></tr>\n",
       "<tr><td>5      </td><td>7.16             </td><td>1370.0            </td><td>7.15              </td><td>0.019999999999999577 </td><td>30.0                </td></tr>\n",
       "<tr><td>6      </td><td>7.18             </td><td>1400.0            </td><td>7.16              </td><td>-0.009999999999999789</td><td>-20.0               </td></tr>\n",
       "<tr><td>7      </td><td>7.17             </td><td>1380.0            </td><td>7.16              </td><td>0.0                  </td><td>0.0                 </td></tr>\n",
       "<tr><td>8      </td><td>7.17             </td><td>1380.0            </td><td>7.14              </td><td>0.009999999999999789 </td><td>20.0                </td></tr>\n",
       "<tr><td>9      </td><td>7.18             </td><td>1400.0            </td><td>7.15              </td><td>0.0                  </td><td>0.0                 </td></tr>\n",
       "</tbody>\n",
       "</table><pre style='font-size: smaller; margin-bottom: 1em;'>[36727 rows x 5 columns]</pre>"
      ],
      "text/plain": [
       "         Gage               Flow                Gage_forecast_12    Gage_diff              Flow_diff\n",
       "-------  -----------------  ------------------  ------------------  ---------------------  --------------------\n",
       "type     real               int                 real                real                   int\n",
       "mins     6.55               578.0               6.55                -0.2900000000000027    -1100.0\n",
       "mean     8.457151414490692  3691.3283960029103  8.457245623111117   7.896098238353596e-06  0.011980286982327703\n",
       "maxs     23.59              51100.0             23.59               0.6899999999999995     2500.0\n",
       "sigma    2.14470318465877   4951.220051301692   2.1446531880317976  0.0347903131765947     98.80782893574614\n",
       "zeros    0                  0                   0                   16060                  16379\n",
       "missing  0                  0                   0                   0                      0\n",
       "0        7.18               1400.0              7.17                0.0                    0.0\n",
       "1        7.18               1400.0              7.14                0.010000000000000677   10.0\n",
       "2        7.19               1410.0              7.17                0.0                    0.0\n",
       "3        7.19               1410.0              7.15                -0.03000000000000025   -40.0\n",
       "4        7.16               1370.0              7.17                0.0                    0.0\n",
       "5        7.16               1370.0              7.15                0.019999999999999577   30.0\n",
       "6        7.18               1400.0              7.16                -0.009999999999999789  -20.0\n",
       "7        7.17               1380.0              7.16                0.0                    0.0\n",
       "8        7.17               1380.0              7.14                0.009999999999999789   20.0\n",
       "9        7.18               1400.0              7.15                0.0                    0.0\n",
       "[36727 rows x 5 columns]\n"
      ]
     },
     "metadata": {},
     "output_type": "display_data"
    }
   ],
   "source": [
    "# Check the dataset\n",
    "hf_train.describe()"
   ]
  },
  {
   "cell_type": "code",
   "execution_count": 62,
   "id": "afffd49e",
   "metadata": {},
   "outputs": [],
   "source": [
    "# Set up the independent variable 'y' and the dependent variables 'X'\n",
    "#y = 'Gage_forecast_'+str(forecast_horizon)\n",
    "y = 'Gage_forecast_'+str(forecast_horizon)\n",
    "X = hf_train.columns\n",
    "X.remove(y)"
   ]
  },
  {
   "cell_type": "code",
   "execution_count": 63,
   "id": "40de866c",
   "metadata": {},
   "outputs": [
    {
     "data": {
      "text/plain": [
       "['Gage', 'Flow', 'Gage_diff', 'Flow_diff']"
      ]
     },
     "execution_count": 63,
     "metadata": {},
     "output_type": "execute_result"
    }
   ],
   "source": [
    "# List the columns for training, just for reality check\n",
    "X"
   ]
  },
  {
   "cell_type": "code",
   "execution_count": 64,
   "id": "581e0590",
   "metadata": {},
   "outputs": [
    {
     "name": "stdout",
     "output_type": "stream",
     "text": [
      "AutoML progress: |███████████████████████████████████████████████████████████████| (done) 100%\n"
     ]
    },
    {
     "data": {
      "text/html": [
       "<pre style='margin: 1em 0 1em 0;'>Model Details\n",
       "=============\n",
       "H2OGradientBoostingEstimator : Gradient Boosting Machine\n",
       "Model Key: GBM_grid_1_AutoML_1_20240828_124217_model_138\n",
       "</pre>\n",
       "<div style='margin: 1em 0 1em 0;'>\n",
       "<style>\n",
       "\n",
       "#h2o-table-6.h2o-container {\n",
       "  overflow-x: auto;\n",
       "}\n",
       "#h2o-table-6 .h2o-table {\n",
       "  /* width: 100%; */\n",
       "  margin-top: 1em;\n",
       "  margin-bottom: 1em;\n",
       "}\n",
       "#h2o-table-6 .h2o-table caption {\n",
       "  white-space: nowrap;\n",
       "  caption-side: top;\n",
       "  text-align: left;\n",
       "  /* margin-left: 1em; */\n",
       "  margin: 0;\n",
       "  font-size: larger;\n",
       "}\n",
       "#h2o-table-6 .h2o-table thead {\n",
       "  white-space: nowrap; \n",
       "  position: sticky;\n",
       "  top: 0;\n",
       "  box-shadow: 0 -1px inset;\n",
       "}\n",
       "#h2o-table-6 .h2o-table tbody {\n",
       "  overflow: auto;\n",
       "}\n",
       "#h2o-table-6 .h2o-table th,\n",
       "#h2o-table-6 .h2o-table td {\n",
       "  text-align: right;\n",
       "  /* border: 1px solid; */\n",
       "}\n",
       "#h2o-table-6 .h2o-table tr:nth-child(even) {\n",
       "  /* background: #F5F5F5 */\n",
       "}\n",
       "\n",
       "</style>      \n",
       "<div id=\"h2o-table-6\" class=\"h2o-container\">\n",
       "  <table class=\"h2o-table\">\n",
       "    <caption>Model Summary: </caption>\n",
       "    <thead><tr><th></th>\n",
       "<th>number_of_trees</th>\n",
       "<th>number_of_internal_trees</th>\n",
       "<th>model_size_in_bytes</th>\n",
       "<th>min_depth</th>\n",
       "<th>max_depth</th>\n",
       "<th>mean_depth</th>\n",
       "<th>min_leaves</th>\n",
       "<th>max_leaves</th>\n",
       "<th>mean_leaves</th></tr></thead>\n",
       "    <tbody><tr><td></td>\n",
       "<td>85.0</td>\n",
       "<td>85.0</td>\n",
       "<td>28075.0</td>\n",
       "<td>5.0</td>\n",
       "<td>5.0</td>\n",
       "<td>5.0</td>\n",
       "<td>6.0</td>\n",
       "<td>31.0</td>\n",
       "<td>21.564707</td></tr></tbody>\n",
       "  </table>\n",
       "</div>\n",
       "</div>\n",
       "<div style='margin: 1em 0 1em 0;'><pre style='margin: 1em 0 1em 0;'>ModelMetricsRegression: gbm\n",
       "** Reported on train data. **\n",
       "\n",
       "MSE: 0.026954828726462474\n",
       "RMSE: 0.1641792579056882\n",
       "MAE: 0.059879357222686044\n",
       "RMSLE: 0.013754614653946902\n",
       "Mean Residual Deviance: 0.026954828726462474</pre></div>\n",
       "<div style='margin: 1em 0 1em 0;'><pre style='margin: 1em 0 1em 0;'>ModelMetricsRegression: gbm\n",
       "** Reported on validation data. **\n",
       "\n",
       "MSE: 0.00933215557984726\n",
       "RMSE: 0.09660308266223837\n",
       "MAE: 0.04604752088926616\n",
       "RMSLE: 0.010530321197352963\n",
       "Mean Residual Deviance: 0.00933215557984726</pre></div>\n",
       "<div style='margin: 1em 0 1em 0;'>\n",
       "<style>\n",
       "\n",
       "#h2o-table-7.h2o-container {\n",
       "  overflow-x: auto;\n",
       "}\n",
       "#h2o-table-7 .h2o-table {\n",
       "  /* width: 100%; */\n",
       "  margin-top: 1em;\n",
       "  margin-bottom: 1em;\n",
       "}\n",
       "#h2o-table-7 .h2o-table caption {\n",
       "  white-space: nowrap;\n",
       "  caption-side: top;\n",
       "  text-align: left;\n",
       "  /* margin-left: 1em; */\n",
       "  margin: 0;\n",
       "  font-size: larger;\n",
       "}\n",
       "#h2o-table-7 .h2o-table thead {\n",
       "  white-space: nowrap; \n",
       "  position: sticky;\n",
       "  top: 0;\n",
       "  box-shadow: 0 -1px inset;\n",
       "}\n",
       "#h2o-table-7 .h2o-table tbody {\n",
       "  overflow: auto;\n",
       "}\n",
       "#h2o-table-7 .h2o-table th,\n",
       "#h2o-table-7 .h2o-table td {\n",
       "  text-align: right;\n",
       "  /* border: 1px solid; */\n",
       "}\n",
       "#h2o-table-7 .h2o-table tr:nth-child(even) {\n",
       "  /* background: #F5F5F5 */\n",
       "}\n",
       "\n",
       "</style>      \n",
       "<div id=\"h2o-table-7\" class=\"h2o-container\">\n",
       "  <table class=\"h2o-table\">\n",
       "    <caption>Scoring History: </caption>\n",
       "    <thead><tr><th></th>\n",
       "<th>timestamp</th>\n",
       "<th>duration</th>\n",
       "<th>number_of_trees</th>\n",
       "<th>training_rmse</th>\n",
       "<th>training_mae</th>\n",
       "<th>training_deviance</th>\n",
       "<th>validation_rmse</th>\n",
       "<th>validation_mae</th>\n",
       "<th>validation_deviance</th></tr></thead>\n",
       "    <tbody><tr><td></td>\n",
       "<td>2024-08-28 12:54:23</td>\n",
       "<td> 2 min 41.705 sec</td>\n",
       "<td>0.0</td>\n",
       "<td>2.1446240</td>\n",
       "<td>1.3860775</td>\n",
       "<td>4.5994121</td>\n",
       "<td>1.4498193</td>\n",
       "<td>1.3960902</td>\n",
       "<td>2.1019761</td></tr>\n",
       "<tr><td></td>\n",
       "<td>2024-08-28 12:54:23</td>\n",
       "<td> 2 min 41.735 sec</td>\n",
       "<td>5.0</td>\n",
       "<td>1.3381877</td>\n",
       "<td>0.8785003</td>\n",
       "<td>1.7907463</td>\n",
       "<td>0.9290513</td>\n",
       "<td>0.8938242</td>\n",
       "<td>0.8631363</td></tr>\n",
       "<tr><td></td>\n",
       "<td>2024-08-28 12:54:23</td>\n",
       "<td> 2 min 41.764 sec</td>\n",
       "<td>10.0</td>\n",
       "<td>0.8522250</td>\n",
       "<td>0.5617871</td>\n",
       "<td>0.7262874</td>\n",
       "<td>0.6024206</td>\n",
       "<td>0.5780972</td>\n",
       "<td>0.3629105</td></tr>\n",
       "<tr><td></td>\n",
       "<td>2024-08-28 12:54:23</td>\n",
       "<td> 2 min 41.790 sec</td>\n",
       "<td>15.0</td>\n",
       "<td>0.5594634</td>\n",
       "<td>0.3657709</td>\n",
       "<td>0.3129993</td>\n",
       "<td>0.3969492</td>\n",
       "<td>0.3788567</td>\n",
       "<td>0.1575687</td></tr>\n",
       "<tr><td></td>\n",
       "<td>2024-08-28 12:54:23</td>\n",
       "<td> 2 min 41.821 sec</td>\n",
       "<td>20.0</td>\n",
       "<td>0.3735325</td>\n",
       "<td>0.2307607</td>\n",
       "<td>0.1395265</td>\n",
       "<td>0.2517799</td>\n",
       "<td>0.2359611</td>\n",
       "<td>0.0633931</td></tr>\n",
       "<tr><td></td>\n",
       "<td>2024-08-28 12:54:23</td>\n",
       "<td> 2 min 41.848 sec</td>\n",
       "<td>25.0</td>\n",
       "<td>0.2688493</td>\n",
       "<td>0.1532570</td>\n",
       "<td>0.0722799</td>\n",
       "<td>0.1716936</td>\n",
       "<td>0.1535614</td>\n",
       "<td>0.0294787</td></tr>\n",
       "<tr><td></td>\n",
       "<td>2024-08-28 12:54:23</td>\n",
       "<td> 2 min 41.895 sec</td>\n",
       "<td>30.0</td>\n",
       "<td>0.2176206</td>\n",
       "<td>0.1099354</td>\n",
       "<td>0.0473587</td>\n",
       "<td>0.1307810</td>\n",
       "<td>0.1058064</td>\n",
       "<td>0.0171037</td></tr>\n",
       "<tr><td></td>\n",
       "<td>2024-08-28 12:54:23</td>\n",
       "<td> 2 min 41.950 sec</td>\n",
       "<td>35.0</td>\n",
       "<td>0.1977842</td>\n",
       "<td>0.0921976</td>\n",
       "<td>0.0391186</td>\n",
       "<td>0.1162950</td>\n",
       "<td>0.0857517</td>\n",
       "<td>0.0135245</td></tr>\n",
       "<tr><td></td>\n",
       "<td>2024-08-28 12:54:23</td>\n",
       "<td> 2 min 42.007 sec</td>\n",
       "<td>40.0</td>\n",
       "<td>0.1842047</td>\n",
       "<td>0.0771610</td>\n",
       "<td>0.0339314</td>\n",
       "<td>0.1052252</td>\n",
       "<td>0.0673260</td>\n",
       "<td>0.0110723</td></tr>\n",
       "<tr><td></td>\n",
       "<td>2024-08-28 12:54:23</td>\n",
       "<td> 2 min 42.043 sec</td>\n",
       "<td>45.0</td>\n",
       "<td>0.1773972</td>\n",
       "<td>0.0710807</td>\n",
       "<td>0.0314698</td>\n",
       "<td>0.1013788</td>\n",
       "<td>0.0598770</td>\n",
       "<td>0.0102777</td></tr>\n",
       "<tr><td></td>\n",
       "<td>2024-08-28 12:54:23</td>\n",
       "<td> 2 min 42.081 sec</td>\n",
       "<td>50.0</td>\n",
       "<td>0.1736940</td>\n",
       "<td>0.0672153</td>\n",
       "<td>0.0301696</td>\n",
       "<td>0.0992522</td>\n",
       "<td>0.0550429</td>\n",
       "<td>0.0098510</td></tr>\n",
       "<tr><td></td>\n",
       "<td>2024-08-28 12:54:23</td>\n",
       "<td> 2 min 42.106 sec</td>\n",
       "<td>55.0</td>\n",
       "<td>0.1701664</td>\n",
       "<td>0.0638858</td>\n",
       "<td>0.0289566</td>\n",
       "<td>0.0977158</td>\n",
       "<td>0.0506362</td>\n",
       "<td>0.0095484</td></tr>\n",
       "<tr><td></td>\n",
       "<td>2024-08-28 12:54:23</td>\n",
       "<td> 2 min 42.136 sec</td>\n",
       "<td>60.0</td>\n",
       "<td>0.1684702</td>\n",
       "<td>0.0623387</td>\n",
       "<td>0.0283822</td>\n",
       "<td>0.0971065</td>\n",
       "<td>0.0486073</td>\n",
       "<td>0.0094297</td></tr>\n",
       "<tr><td></td>\n",
       "<td>2024-08-28 12:54:23</td>\n",
       "<td> 2 min 42.159 sec</td>\n",
       "<td>65.0</td>\n",
       "<td>0.1675423</td>\n",
       "<td>0.0614759</td>\n",
       "<td>0.0280704</td>\n",
       "<td>0.0969943</td>\n",
       "<td>0.0474104</td>\n",
       "<td>0.0094079</td></tr>\n",
       "<tr><td></td>\n",
       "<td>2024-08-28 12:54:23</td>\n",
       "<td> 2 min 42.186 sec</td>\n",
       "<td>70.0</td>\n",
       "<td>0.1667641</td>\n",
       "<td>0.0609479</td>\n",
       "<td>0.0278103</td>\n",
       "<td>0.0967249</td>\n",
       "<td>0.0467568</td>\n",
       "<td>0.0093557</td></tr>\n",
       "<tr><td></td>\n",
       "<td>2024-08-28 12:54:24</td>\n",
       "<td> 2 min 42.214 sec</td>\n",
       "<td>75.0</td>\n",
       "<td>0.1657689</td>\n",
       "<td>0.0605071</td>\n",
       "<td>0.0274793</td>\n",
       "<td>0.0966112</td>\n",
       "<td>0.0462318</td>\n",
       "<td>0.0093337</td></tr>\n",
       "<tr><td></td>\n",
       "<td>2024-08-28 12:54:24</td>\n",
       "<td> 2 min 42.255 sec</td>\n",
       "<td>80.0</td>\n",
       "<td>0.1650771</td>\n",
       "<td>0.0603329</td>\n",
       "<td>0.0272504</td>\n",
       "<td>0.0968837</td>\n",
       "<td>0.0462698</td>\n",
       "<td>0.0093865</td></tr>\n",
       "<tr><td></td>\n",
       "<td>2024-08-28 12:54:24</td>\n",
       "<td> 2 min 42.281 sec</td>\n",
       "<td>85.0</td>\n",
       "<td>0.1641793</td>\n",
       "<td>0.0598794</td>\n",
       "<td>0.0269548</td>\n",
       "<td>0.0966031</td>\n",
       "<td>0.0460475</td>\n",
       "<td>0.0093322</td></tr></tbody>\n",
       "  </table>\n",
       "</div>\n",
       "</div>\n",
       "<div style='margin: 1em 0 1em 0;'>\n",
       "<style>\n",
       "\n",
       "#h2o-table-8.h2o-container {\n",
       "  overflow-x: auto;\n",
       "}\n",
       "#h2o-table-8 .h2o-table {\n",
       "  /* width: 100%; */\n",
       "  margin-top: 1em;\n",
       "  margin-bottom: 1em;\n",
       "}\n",
       "#h2o-table-8 .h2o-table caption {\n",
       "  white-space: nowrap;\n",
       "  caption-side: top;\n",
       "  text-align: left;\n",
       "  /* margin-left: 1em; */\n",
       "  margin: 0;\n",
       "  font-size: larger;\n",
       "}\n",
       "#h2o-table-8 .h2o-table thead {\n",
       "  white-space: nowrap; \n",
       "  position: sticky;\n",
       "  top: 0;\n",
       "  box-shadow: 0 -1px inset;\n",
       "}\n",
       "#h2o-table-8 .h2o-table tbody {\n",
       "  overflow: auto;\n",
       "}\n",
       "#h2o-table-8 .h2o-table th,\n",
       "#h2o-table-8 .h2o-table td {\n",
       "  text-align: right;\n",
       "  /* border: 1px solid; */\n",
       "}\n",
       "#h2o-table-8 .h2o-table tr:nth-child(even) {\n",
       "  /* background: #F5F5F5 */\n",
       "}\n",
       "\n",
       "</style>      \n",
       "<div id=\"h2o-table-8\" class=\"h2o-container\">\n",
       "  <table class=\"h2o-table\">\n",
       "    <caption>Variable Importances: </caption>\n",
       "    <thead><tr><th>variable</th>\n",
       "<th>relative_importance</th>\n",
       "<th>scaled_importance</th>\n",
       "<th>percentage</th></tr></thead>\n",
       "    <tbody><tr><td>Flow</td>\n",
       "<td>352695.7187500</td>\n",
       "<td>1.0</td>\n",
       "<td>0.4765027</td></tr>\n",
       "<tr><td>Gage</td>\n",
       "<td>306888.2187500</td>\n",
       "<td>0.8701218</td>\n",
       "<td>0.4146153</td></tr>\n",
       "<tr><td>Flow_diff</td>\n",
       "<td>70398.5234375</td>\n",
       "<td>0.1996013</td>\n",
       "<td>0.0951106</td></tr>\n",
       "<tr><td>Gage_diff</td>\n",
       "<td>10193.2802734</td>\n",
       "<td>0.0289011</td>\n",
       "<td>0.0137714</td></tr></tbody>\n",
       "  </table>\n",
       "</div>\n",
       "</div><pre style=\"font-size: smaller; margin: 1em 0 0 0;\">\n",
       "\n",
       "[tips]\n",
       "Use `model.explain()` to inspect the model.\n",
       "--\n",
       "Use `h2o.display.toggle_user_tips()` to switch on/off this section.</pre>"
      ],
      "text/plain": [
       "Model Details\n",
       "=============\n",
       "H2OGradientBoostingEstimator : Gradient Boosting Machine\n",
       "Model Key: GBM_grid_1_AutoML_1_20240828_124217_model_138\n",
       "\n",
       "\n",
       "Model Summary: \n",
       "    number_of_trees    number_of_internal_trees    model_size_in_bytes    min_depth    max_depth    mean_depth    min_leaves    max_leaves    mean_leaves\n",
       "--  -----------------  --------------------------  ---------------------  -----------  -----------  ------------  ------------  ------------  -------------\n",
       "    85                 85                          28075                  5            5            5             6             31            21.5647\n",
       "\n",
       "ModelMetricsRegression: gbm\n",
       "** Reported on train data. **\n",
       "\n",
       "MSE: 0.026954828726462474\n",
       "RMSE: 0.1641792579056882\n",
       "MAE: 0.059879357222686044\n",
       "RMSLE: 0.013754614653946902\n",
       "Mean Residual Deviance: 0.026954828726462474\n",
       "\n",
       "ModelMetricsRegression: gbm\n",
       "** Reported on validation data. **\n",
       "\n",
       "MSE: 0.00933215557984726\n",
       "RMSE: 0.09660308266223837\n",
       "MAE: 0.04604752088926616\n",
       "RMSLE: 0.010530321197352963\n",
       "Mean Residual Deviance: 0.00933215557984726\n",
       "\n",
       "Scoring History: \n",
       "    timestamp            duration          number_of_trees    training_rmse    training_mae    training_deviance    validation_rmse    validation_mae    validation_deviance\n",
       "--  -------------------  ----------------  -----------------  ---------------  --------------  -------------------  -----------------  ----------------  ---------------------\n",
       "    2024-08-28 12:54:23  2 min 41.705 sec  0                  2.14462          1.38608         4.59941              1.44982            1.39609           2.10198\n",
       "    2024-08-28 12:54:23  2 min 41.735 sec  5                  1.33819          0.8785          1.79075              0.929051           0.893824          0.863136\n",
       "    2024-08-28 12:54:23  2 min 41.764 sec  10                 0.852225         0.561787        0.726287             0.602421           0.578097          0.362911\n",
       "    2024-08-28 12:54:23  2 min 41.790 sec  15                 0.559463         0.365771        0.312999             0.396949           0.378857          0.157569\n",
       "    2024-08-28 12:54:23  2 min 41.821 sec  20                 0.373532         0.230761        0.139527             0.25178            0.235961          0.0633931\n",
       "    2024-08-28 12:54:23  2 min 41.848 sec  25                 0.268849         0.153257        0.0722799            0.171694           0.153561          0.0294787\n",
       "    2024-08-28 12:54:23  2 min 41.895 sec  30                 0.217621         0.109935        0.0473587            0.130781           0.105806          0.0171037\n",
       "    2024-08-28 12:54:23  2 min 41.950 sec  35                 0.197784         0.0921976       0.0391186            0.116295           0.0857517         0.0135245\n",
       "    2024-08-28 12:54:23  2 min 42.007 sec  40                 0.184205         0.077161        0.0339314            0.105225           0.067326          0.0110723\n",
       "    2024-08-28 12:54:23  2 min 42.043 sec  45                 0.177397         0.0710807       0.0314698            0.101379           0.059877          0.0102777\n",
       "    2024-08-28 12:54:23  2 min 42.081 sec  50                 0.173694         0.0672153       0.0301696            0.0992522          0.0550429         0.009851\n",
       "    2024-08-28 12:54:23  2 min 42.106 sec  55                 0.170166         0.0638858       0.0289566            0.0977158          0.0506362         0.00954837\n",
       "    2024-08-28 12:54:23  2 min 42.136 sec  60                 0.16847          0.0623387       0.0283822            0.0971065          0.0486073         0.00942967\n",
       "    2024-08-28 12:54:23  2 min 42.159 sec  65                 0.167542         0.0614759       0.0280704            0.0969943          0.0474104         0.00940789\n",
       "    2024-08-28 12:54:23  2 min 42.186 sec  70                 0.166764         0.0609479       0.0278103            0.0967249          0.0467568         0.0093557\n",
       "    2024-08-28 12:54:24  2 min 42.214 sec  75                 0.165769         0.0605071       0.0274793            0.0966112          0.0462318         0.00933372\n",
       "    2024-08-28 12:54:24  2 min 42.255 sec  80                 0.165077         0.0603329       0.0272504            0.0968837          0.0462698         0.00938646\n",
       "    2024-08-28 12:54:24  2 min 42.281 sec  85                 0.164179         0.0598794       0.0269548            0.0966031          0.0460475         0.00933216\n",
       "\n",
       "Variable Importances: \n",
       "variable    relative_importance    scaled_importance    percentage\n",
       "----------  ---------------------  -------------------  ------------\n",
       "Flow        352696                 1                    0.476503\n",
       "Gage        306888                 0.870122             0.414615\n",
       "Flow_diff   70398.5                0.199601             0.0951106\n",
       "Gage_diff   10193.3                0.0289011            0.0137714\n",
       "\n",
       "[tips]\n",
       "Use `model.explain()` to inspect the model.\n",
       "--\n",
       "Use `h2o.display.toggle_user_tips()` to switch on/off this section."
      ]
     },
     "execution_count": 64,
     "metadata": {},
     "output_type": "execute_result"
    }
   ],
   "source": [
    "# Set up the H2O-3 AutoML model, run for 10 minutes with RSME as the stopping metric, use test set as validation set.\n",
    "aml = H2OAutoML(max_runtime_secs = 1200,\n",
    "                seed = 1234, stopping_metric = \"RMSE\", nfolds = 0,\n",
    "                sort_metric = \"RMSE\")\n",
    "\n",
    "aml.train(x = X, \n",
    "          y = y,\n",
    "          training_frame = hf_train,\n",
    "          validation_frame = hf_test, #leaderboard_frame\n",
    "          )"
   ]
  },
  {
   "cell_type": "code",
   "execution_count": 65,
   "id": "2d36441d",
   "metadata": {},
   "outputs": [
    {
     "data": {
      "text/html": [
       "<table class='dataframe'>\n",
       "<thead>\n",
       "<tr><th>model_id                                        </th><th style=\"text-align: right;\">     rmse</th><th style=\"text-align: right;\">       mse</th><th style=\"text-align: right;\">      mae</th><th style=\"text-align: right;\">    rmsle</th><th style=\"text-align: right;\">  mean_residual_deviance</th></tr>\n",
       "</thead>\n",
       "<tbody>\n",
       "<tr><td>GBM_grid_1_AutoML_1_20240828_124217_model_138   </td><td style=\"text-align: right;\">0.0966031</td><td style=\"text-align: right;\">0.00933216</td><td style=\"text-align: right;\">0.0460475</td><td style=\"text-align: right;\">0.0105303</td><td style=\"text-align: right;\">              0.00933216</td></tr>\n",
       "<tr><td>GBM_grid_1_AutoML_1_20240828_124217_model_43    </td><td style=\"text-align: right;\">0.0967866</td><td style=\"text-align: right;\">0.00936765</td><td style=\"text-align: right;\">0.0462477</td><td style=\"text-align: right;\">0.0105438</td><td style=\"text-align: right;\">              0.00936765</td></tr>\n",
       "<tr><td>XGBoost_grid_1_AutoML_1_20240828_124217_model_62</td><td style=\"text-align: right;\">0.0970009</td><td style=\"text-align: right;\">0.00940917</td><td style=\"text-align: right;\">0.0472498</td><td style=\"text-align: right;\">0.010597 </td><td style=\"text-align: right;\">              0.00940917</td></tr>\n",
       "<tr><td>GBM_grid_1_AutoML_1_20240828_124217_model_291   </td><td style=\"text-align: right;\">0.0976532</td><td style=\"text-align: right;\">0.00953615</td><td style=\"text-align: right;\">0.0469966</td><td style=\"text-align: right;\">0.0106333</td><td style=\"text-align: right;\">              0.00953615</td></tr>\n",
       "<tr><td>XGBoost_grid_1_AutoML_1_20240828_124217_model_12</td><td style=\"text-align: right;\">0.0976911</td><td style=\"text-align: right;\">0.00954356</td><td style=\"text-align: right;\">0.0456958</td><td style=\"text-align: right;\">0.0106005</td><td style=\"text-align: right;\">              0.00954356</td></tr>\n",
       "<tr><td>GBM_grid_1_AutoML_1_20240828_124217_model_272   </td><td style=\"text-align: right;\">0.0978834</td><td style=\"text-align: right;\">0.00958117</td><td style=\"text-align: right;\">0.0449714</td><td style=\"text-align: right;\">0.0106668</td><td style=\"text-align: right;\">              0.00958117</td></tr>\n",
       "<tr><td>GBM_grid_1_AutoML_1_20240828_124217_model_266   </td><td style=\"text-align: right;\">0.0978903</td><td style=\"text-align: right;\">0.00958251</td><td style=\"text-align: right;\">0.0482355</td><td style=\"text-align: right;\">0.0107232</td><td style=\"text-align: right;\">              0.00958251</td></tr>\n",
       "<tr><td>GBM_grid_1_AutoML_1_20240828_124217_model_55    </td><td style=\"text-align: right;\">0.0979172</td><td style=\"text-align: right;\">0.00958777</td><td style=\"text-align: right;\">0.0461394</td><td style=\"text-align: right;\">0.0106444</td><td style=\"text-align: right;\">              0.00958777</td></tr>\n",
       "<tr><td>GBM_grid_1_AutoML_1_20240828_124217_model_99    </td><td style=\"text-align: right;\">0.0979886</td><td style=\"text-align: right;\">0.00960177</td><td style=\"text-align: right;\">0.0456393</td><td style=\"text-align: right;\">0.0106533</td><td style=\"text-align: right;\">              0.00960177</td></tr>\n",
       "<tr><td>GBM_grid_1_AutoML_1_20240828_124217_model_223   </td><td style=\"text-align: right;\">0.098005 </td><td style=\"text-align: right;\">0.00960499</td><td style=\"text-align: right;\">0.0455754</td><td style=\"text-align: right;\">0.0107365</td><td style=\"text-align: right;\">              0.00960499</td></tr>\n",
       "</tbody>\n",
       "</table><pre style='font-size: smaller; margin-bottom: 1em;'>[674 rows x 6 columns]</pre>"
      ],
      "text/plain": [
       "model_id                                               rmse         mse        mae      rmsle    mean_residual_deviance\n",
       "------------------------------------------------  ---------  ----------  ---------  ---------  ------------------------\n",
       "GBM_grid_1_AutoML_1_20240828_124217_model_138     0.0966031  0.00933216  0.0460475  0.0105303                0.00933216\n",
       "GBM_grid_1_AutoML_1_20240828_124217_model_43      0.0967866  0.00936765  0.0462477  0.0105438                0.00936765\n",
       "XGBoost_grid_1_AutoML_1_20240828_124217_model_62  0.0970009  0.00940917  0.0472498  0.010597                 0.00940917\n",
       "GBM_grid_1_AutoML_1_20240828_124217_model_291     0.0976532  0.00953615  0.0469966  0.0106333                0.00953615\n",
       "XGBoost_grid_1_AutoML_1_20240828_124217_model_12  0.0976911  0.00954356  0.0456958  0.0106005                0.00954356\n",
       "GBM_grid_1_AutoML_1_20240828_124217_model_272     0.0978834  0.00958117  0.0449714  0.0106668                0.00958117\n",
       "GBM_grid_1_AutoML_1_20240828_124217_model_266     0.0978903  0.00958251  0.0482355  0.0107232                0.00958251\n",
       "GBM_grid_1_AutoML_1_20240828_124217_model_55      0.0979172  0.00958777  0.0461394  0.0106444                0.00958777\n",
       "GBM_grid_1_AutoML_1_20240828_124217_model_99      0.0979886  0.00960177  0.0456393  0.0106533                0.00960177\n",
       "GBM_grid_1_AutoML_1_20240828_124217_model_223     0.098005   0.00960499  0.0455754  0.0107365                0.00960499\n",
       "[674 rows x 6 columns]\n"
      ]
     },
     "execution_count": 65,
     "metadata": {},
     "output_type": "execute_result"
    }
   ],
   "source": [
    "# Check leaderboard\n",
    "lb = aml.leaderboard\n",
    "\n",
    "lb"
   ]
  },
  {
   "cell_type": "code",
   "execution_count": 66,
   "id": "b8390654",
   "metadata": {},
   "outputs": [],
   "source": [
    "# Select top model on LB as the winner\n",
    "leader_model = aml.leader"
   ]
  },
  {
   "cell_type": "code",
   "execution_count": 67,
   "id": "a29079fd",
   "metadata": {},
   "outputs": [
    {
     "name": "stdout",
     "output_type": "stream",
     "text": [
      "gbm prediction progress: |███████████████████████████████████████████████████████| (done) 100%\n"
     ]
    },
    {
     "data": {
      "text/html": [
       "<table class='dataframe'>\n",
       "<thead>\n",
       "<tr><th style=\"text-align: right;\">  predict</th></tr>\n",
       "</thead>\n",
       "<tbody>\n",
       "<tr><td style=\"text-align: right;\">  7.4778 </td></tr>\n",
       "<tr><td style=\"text-align: right;\">  7.47252</td></tr>\n",
       "<tr><td style=\"text-align: right;\">  7.45157</td></tr>\n",
       "<tr><td style=\"text-align: right;\">  7.47462</td></tr>\n",
       "<tr><td style=\"text-align: right;\">  7.4778 </td></tr>\n",
       "</tbody>\n",
       "</table><pre style='font-size: smaller; margin-bottom: 1em;'>[5 rows x 1 column]</pre>"
      ],
      "text/plain": [
       "  predict\n",
       "---------\n",
       "  7.4778\n",
       "  7.47252\n",
       "  7.45157\n",
       "  7.47462\n",
       "  7.4778\n",
       "[5 rows x 1 column]\n"
      ]
     },
     "execution_count": 67,
     "metadata": {},
     "output_type": "execute_result"
    }
   ],
   "source": [
    "hf_test_predict = leader_model.predict(hf_test)\n",
    "hf_test_predict.head(5)"
   ]
  },
  {
   "cell_type": "code",
   "execution_count": 68,
   "id": "6e606d80",
   "metadata": {},
   "outputs": [],
   "source": [
    "#contributions = leader_model.predict_contributions(hf_test)\n",
    "#contributions"
   ]
  },
  {
   "cell_type": "code",
   "execution_count": 69,
   "id": "88fe016f",
   "metadata": {},
   "outputs": [],
   "source": [
    "#staged_predict_proba = leader_model.staged_predict_proba(hf_test)"
   ]
  },
  {
   "cell_type": "code",
   "execution_count": 70,
   "id": "d2228a67",
   "metadata": {},
   "outputs": [],
   "source": [
    "#staged_predict_proba"
   ]
  },
  {
   "cell_type": "code",
   "execution_count": 71,
   "id": "64c2ba5f",
   "metadata": {},
   "outputs": [
    {
     "name": "stderr",
     "output_type": "stream",
     "text": [
      "/Users/tott/opt/anaconda3/envs/py310/lib/python3.10/site-packages/h2o/frame.py:1979: H2ODependencyWarning: converting H2O frame to pandas dataframe using single-thread.  For faster conversion using multi-thread, install datatable (for Python 3.9 or lower), or polars and pyarrow (for Python 3.10 or above).\n",
      "  warnings.warn(\"converting H2O frame to pandas dataframe using single-thread.  For faster conversion using\"\n"
     ]
    },
    {
     "data": {
      "text/html": [
       "<div>\n",
       "<style scoped>\n",
       "    .dataframe tbody tr th:only-of-type {\n",
       "        vertical-align: middle;\n",
       "    }\n",
       "\n",
       "    .dataframe tbody tr th {\n",
       "        vertical-align: top;\n",
       "    }\n",
       "\n",
       "    .dataframe thead th {\n",
       "        text-align: right;\n",
       "    }\n",
       "</style>\n",
       "<table border=\"1\" class=\"dataframe\">\n",
       "  <thead>\n",
       "    <tr style=\"text-align: right;\">\n",
       "      <th></th>\n",
       "      <th>ground_truth</th>\n",
       "      <th>predictions</th>\n",
       "    </tr>\n",
       "  </thead>\n",
       "  <tbody>\n",
       "    <tr>\n",
       "      <th>9177</th>\n",
       "      <td>6.73</td>\n",
       "      <td>6.729472</td>\n",
       "    </tr>\n",
       "    <tr>\n",
       "      <th>9178</th>\n",
       "      <td>6.73</td>\n",
       "      <td>6.729472</td>\n",
       "    </tr>\n",
       "    <tr>\n",
       "      <th>9179</th>\n",
       "      <td>6.73</td>\n",
       "      <td>6.729472</td>\n",
       "    </tr>\n",
       "    <tr>\n",
       "      <th>9180</th>\n",
       "      <td>6.73</td>\n",
       "      <td>6.729472</td>\n",
       "    </tr>\n",
       "    <tr>\n",
       "      <th>9181</th>\n",
       "      <td>6.73</td>\n",
       "      <td>6.740581</td>\n",
       "    </tr>\n",
       "  </tbody>\n",
       "</table>\n",
       "</div>"
      ],
      "text/plain": [
       "      ground_truth  predictions\n",
       "9177          6.73     6.729472\n",
       "9178          6.73     6.729472\n",
       "9179          6.73     6.729472\n",
       "9180          6.73     6.729472\n",
       "9181          6.73     6.740581"
      ]
     },
     "execution_count": 71,
     "metadata": {},
     "output_type": "execute_result"
    }
   ],
   "source": [
    "df_results = pd.DataFrame()\n",
    "df_results['ground_truth'] = df_test['Gage'].reset_index(drop=True)\n",
    "df_results['predictions'] = h2o.as_list(hf_test_predict,use_pandas=True)\n",
    "df_results.tail()"
   ]
  },
  {
   "cell_type": "code",
   "execution_count": 72,
   "id": "ffa6522d",
   "metadata": {},
   "outputs": [
    {
     "data": {
      "image/png": "[encoded data removed]",
      "text/plain": [
       "<Figure size 640x480 with 1 Axes>"
      ]
     },
     "metadata": {},
     "output_type": "display_data"
    }
   ],
   "source": [
    "plt.scatter(x=df_results['predictions'],y=df_results['ground_truth'],s=1)\n",
    "plt.xlabel('predictions',fontsize=18)\n",
    "plt.ylabel('ground_truth',fontsize=18)\n",
    "plt.show()"
   ]
  },
  {
   "cell_type": "code",
   "execution_count": 73,
   "id": "307b3263",
   "metadata": {},
   "outputs": [
    {
     "data": {
      "image/png": "[encoded data removed]",
      "text/plain": [
       "<Figure size 640x480 with 1 Axes>"
      ]
     },
     "metadata": {},
     "output_type": "display_data"
    }
   ],
   "source": [
    "plt.plot(figsize=(20, 5))\n",
    "plt.plot(df_results['ground_truth'])\n",
    "plt.plot(df_results['predictions'])\n",
    "plt.ylabel('Gage Height',fontsize=18)\n",
    "plt.legend(['ground_truth','prediction'])\n",
    "plt.show()"
   ]
  },
  {
   "cell_type": "code",
   "execution_count": 74,
   "id": "286a7755",
   "metadata": {},
   "outputs": [
    {
     "name": "stdout",
     "output_type": "stream",
     "text": [
      "/Users/tott/Documents/GitHub/sales-engineering/tott/usgs-site-01473730/model/12_time_units/GBM_grid_1_AutoML_1_20240828_124217_model_138\n"
     ]
    }
   ],
   "source": [
    "model_path = h2o.save_model(model=aml.leader, path=\"model/\"+str(forecast_horizon)+\"_time_units/\", force=True)\n",
    "print (model_path)"
   ]
  },
  {
   "cell_type": "code",
   "execution_count": 75,
   "id": "51bb342e",
   "metadata": {},
   "outputs": [
    {
     "data": {
      "text/plain": [
       "'/Users/tott/Documents/GitHub/sales-engineering/tott/usgs-site-01473730/model/12_time_units/GBM_grid_1_AutoML_1_20240828_124217_model_138.zip'"
      ]
     },
     "execution_count": 75,
     "metadata": {},
     "output_type": "execute_result"
    }
   ],
   "source": [
    "load_model = h2o.load_model(model_path)\n",
    "load_model.download_mojo(path=\"model/\"+str(forecast_horizon)+\"_time_units/\")"
   ]
  },
  {
   "cell_type": "code",
   "execution_count": 76,
   "id": "ee75f6ee",
   "metadata": {},
   "outputs": [],
   "source": [
    "#leader_model.explain(hf_test)"
   ]
  },
  {
   "cell_type": "code",
   "execution_count": 77,
   "id": "dd16f35b",
   "metadata": {},
   "outputs": [
    {
     "data": {
      "text/plain": [
       "0       7.477805\n",
       "1       7.472517\n",
       "2       7.451570\n",
       "3       7.474624\n",
       "4       7.477805\n",
       "          ...   \n",
       "9129    6.745402\n",
       "9130    6.745402\n",
       "9131    6.745402\n",
       "9132    6.745402\n",
       "9133    6.745402\n",
       "Name: predictions, Length: 9134, dtype: float64"
      ]
     },
     "execution_count": 77,
     "metadata": {},
     "output_type": "execute_result"
    }
   ],
   "source": [
    "df_results['predictions'][:-48]"
   ]
  },
  {
   "cell_type": "code",
   "execution_count": 78,
   "id": "c8a53506",
   "metadata": {},
   "outputs": [
    {
     "name": "stdout",
     "output_type": "stream",
     "text": [
      "0.1641792579056882\n"
     ]
    }
   ],
   "source": [
    "print(aml.leader.rmse())"
   ]
  },
  {
   "cell_type": "code",
   "execution_count": 79,
   "id": "40d3d596",
   "metadata": {},
   "outputs": [
    {
     "name": "stdout",
     "output_type": "stream",
     "text": [
      "H2O session _sid_98ba closed.\n"
     ]
    }
   ],
   "source": [
    "h2o.cluster().shutdown()"
   ]
  },
  {
   "cell_type": "code",
   "execution_count": null,
   "id": "0b0d6edf",
   "metadata": {},
   "outputs": [],
   "source": []
  },
  {
   "cell_type": "code",
   "execution_count": null,
   "id": "16eab8bc",
   "metadata": {},
   "outputs": [],
   "source": []
  }
 ],
 "metadata": {
  "kernelspec": {
   "display_name": "Python 3 (ipykernel)",
   "language": "python",
   "name": "python3"
  },
  "language_info": {
   "codemirror_mode": {
    "name": "ipython",
    "version": 3
   },
   "file_extension": ".py",
   "mimetype": "text/x-python",
   "name": "python",
   "nbconvert_exporter": "python",
   "pygments_lexer": "ipython3",
   "version": "3.10.11"
  }
 },
 "nbformat": 4,
 "nbformat_minor": 5
}
