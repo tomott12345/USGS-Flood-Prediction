{
 "cells": [
  {
   "cell_type": "code",
   "execution_count": 1,
   "id": "b1918fb8",
   "metadata": {},
   "outputs": [],
   "source": [
    "import pandas as pd\n",
    "from datetime import datetime\n",
    "import matplotlib.pyplot as plt\n",
    "import numpy as np\n",
    "\n",
    "import scipy.stats as stats\n",
    "from autogluon.timeseries import TimeSeriesDataFrame, TimeSeriesPredictor\n",
    "\n",
    "import datetime as dt\n",
    "from datetime import timezone, timedelta"
   ]
  },
  {
   "cell_type": "code",
   "execution_count": null,
   "id": "273b0009",
   "metadata": {},
   "outputs": [],
   "source": []
  },
  {
   "cell_type": "code",
   "execution_count": 2,
   "id": "c9adb58e",
   "metadata": {},
   "outputs": [],
   "source": [
    "timezone_offset = -5.0  # Eastern Standard Time (UTC−08:00)\n",
    "tzinfo = timezone(timedelta(hours=timezone_offset))\n",
    "current_dateTime = datetime.now(tzinfo)"
   ]
  },
  {
   "cell_type": "code",
   "execution_count": 3,
   "id": "d468298b",
   "metadata": {},
   "outputs": [],
   "source": [
    "begin_date = '2024-08-12T00:00:00.000-05:00'\n",
    "#end_date = '2024-08-14T11:00:00.000-05:00'\n",
    "end_date = current_dateTime.strftime('%Y-%m-%dT%H:%M:%S.%f%z')\n"
   ]
  },
  {
   "cell_type": "code",
   "execution_count": 4,
   "id": "4bbc8ef4",
   "metadata": {},
   "outputs": [
    {
     "name": "stdout",
     "output_type": "stream",
     "text": [
      "2024-10-17T14:20:48.453866-0500\n"
     ]
    }
   ],
   "source": [
    "print(end_date)"
   ]
  },
  {
   "cell_type": "code",
   "execution_count": 5,
   "id": "bd4f6ca1",
   "metadata": {},
   "outputs": [
    {
     "name": "stdout",
     "output_type": "stream",
     "text": [
      "2024-10-17T14:20:48.453866-0500\n"
     ]
    }
   ],
   "source": [
    "print(current_dateTime.strftime('%Y-%m-%dT%H:%M:%S.%f%z'))"
   ]
  },
  {
   "cell_type": "code",
   "execution_count": 6,
   "id": "53770dfc",
   "metadata": {},
   "outputs": [],
   "source": [
    "#print(end_date)"
   ]
  },
  {
   "cell_type": "code",
   "execution_count": 7,
   "id": "7f35752c",
   "metadata": {},
   "outputs": [],
   "source": [
    "#Read in raw stream gage data\n",
    "gage = pd.read_csv('https://nwis.waterservices.usgs.gov/nwis/iv/?sites=01473730&parameterCd=00065&startDT='+begin_date+'&endDT='+end_date+'&siteStatus=all&format=rdb', sep='\\t', skiprows=26)\n",
    "gage = gage.iloc[1: , :]"
   ]
  },
  {
   "cell_type": "code",
   "execution_count": 8,
   "id": "f680ccd4",
   "metadata": {},
   "outputs": [
    {
     "data": {
      "text/html": [
       "<div>\n",
       "<style scoped>\n",
       "    .dataframe tbody tr th:only-of-type {\n",
       "        vertical-align: middle;\n",
       "    }\n",
       "\n",
       "    .dataframe tbody tr th {\n",
       "        vertical-align: top;\n",
       "    }\n",
       "\n",
       "    .dataframe thead th {\n",
       "        text-align: right;\n",
       "    }\n",
       "</style>\n",
       "<table border=\"1\" class=\"dataframe\">\n",
       "  <thead>\n",
       "    <tr style=\"text-align: right;\">\n",
       "      <th></th>\n",
       "      <th>series</th>\n",
       "      <th>item_id</th>\n",
       "    </tr>\n",
       "    <tr>\n",
       "      <th>datetime</th>\n",
       "      <th></th>\n",
       "      <th></th>\n",
       "    </tr>\n",
       "  </thead>\n",
       "  <tbody>\n",
       "    <tr>\n",
       "      <th>2024-08-12 01:00</th>\n",
       "      <td>8.25</td>\n",
       "      <td>gage</td>\n",
       "    </tr>\n",
       "    <tr>\n",
       "      <th>2024-08-12 01:15</th>\n",
       "      <td>8.24</td>\n",
       "      <td>gage</td>\n",
       "    </tr>\n",
       "    <tr>\n",
       "      <th>2024-08-12 01:30</th>\n",
       "      <td>8.23</td>\n",
       "      <td>gage</td>\n",
       "    </tr>\n",
       "    <tr>\n",
       "      <th>2024-08-12 01:45</th>\n",
       "      <td>8.22</td>\n",
       "      <td>gage</td>\n",
       "    </tr>\n",
       "    <tr>\n",
       "      <th>2024-08-12 02:00</th>\n",
       "      <td>8.20</td>\n",
       "      <td>gage</td>\n",
       "    </tr>\n",
       "  </tbody>\n",
       "</table>\n",
       "</div>"
      ],
      "text/plain": [
       "                  series item_id\n",
       "datetime                        \n",
       "2024-08-12 01:00    8.25    gage\n",
       "2024-08-12 01:15    8.24    gage\n",
       "2024-08-12 01:30    8.23    gage\n",
       "2024-08-12 01:45    8.22    gage\n",
       "2024-08-12 02:00    8.20    gage"
      ]
     },
     "execution_count": 8,
     "metadata": {},
     "output_type": "execute_result"
    }
   ],
   "source": [
    "gage['328674_00065'] = gage['328674_00065'].astype(float)\n",
    "gage = gage[['datetime','328674_00065']]\n",
    "gage = gage.set_index('datetime')\n",
    "gage['item_id'] = 'gage'\n",
    "gage  = gage.rename(columns={\"328674_00065\": \"series\"})\n",
    "gage.head()"
   ]
  },
  {
   "cell_type": "code",
   "execution_count": 9,
   "id": "36ae5538",
   "metadata": {},
   "outputs": [],
   "source": [
    "#Read in raw flow data\n",
    "flow = pd.read_csv('https://waterservices.usgs.gov/nwis/iv/?sites=01473730&parameterCd=00060&startDT='+begin_date+'&endDT='+end_date+'&siteStatus=all&format=rdb', sep='\\t', skiprows=26)\n",
    "flow = flow.iloc[1: , :]"
   ]
  },
  {
   "cell_type": "code",
   "execution_count": 10,
   "id": "5397dc9c",
   "metadata": {},
   "outputs": [
    {
     "data": {
      "text/html": [
       "<div>\n",
       "<style scoped>\n",
       "    .dataframe tbody tr th:only-of-type {\n",
       "        vertical-align: middle;\n",
       "    }\n",
       "\n",
       "    .dataframe tbody tr th {\n",
       "        vertical-align: top;\n",
       "    }\n",
       "\n",
       "    .dataframe thead th {\n",
       "        text-align: right;\n",
       "    }\n",
       "</style>\n",
       "<table border=\"1\" class=\"dataframe\">\n",
       "  <thead>\n",
       "    <tr style=\"text-align: right;\">\n",
       "      <th></th>\n",
       "      <th>series</th>\n",
       "      <th>item_id</th>\n",
       "    </tr>\n",
       "    <tr>\n",
       "      <th>datetime</th>\n",
       "      <th></th>\n",
       "      <th></th>\n",
       "    </tr>\n",
       "  </thead>\n",
       "  <tbody>\n",
       "    <tr>\n",
       "      <th>2024-08-12 01:00</th>\n",
       "      <td>2980.0</td>\n",
       "      <td>flow</td>\n",
       "    </tr>\n",
       "    <tr>\n",
       "      <th>2024-08-12 01:15</th>\n",
       "      <td>2970.0</td>\n",
       "      <td>flow</td>\n",
       "    </tr>\n",
       "    <tr>\n",
       "      <th>2024-08-12 01:30</th>\n",
       "      <td>2950.0</td>\n",
       "      <td>flow</td>\n",
       "    </tr>\n",
       "    <tr>\n",
       "      <th>2024-08-12 01:45</th>\n",
       "      <td>2940.0</td>\n",
       "      <td>flow</td>\n",
       "    </tr>\n",
       "    <tr>\n",
       "      <th>2024-08-12 02:00</th>\n",
       "      <td>2910.0</td>\n",
       "      <td>flow</td>\n",
       "    </tr>\n",
       "  </tbody>\n",
       "</table>\n",
       "</div>"
      ],
      "text/plain": [
       "                  series item_id\n",
       "datetime                        \n",
       "2024-08-12 01:00  2980.0    flow\n",
       "2024-08-12 01:15  2970.0    flow\n",
       "2024-08-12 01:30  2950.0    flow\n",
       "2024-08-12 01:45  2940.0    flow\n",
       "2024-08-12 02:00  2910.0    flow"
      ]
     },
     "execution_count": 10,
     "metadata": {},
     "output_type": "execute_result"
    }
   ],
   "source": [
    "flow['328771_00060'] = flow['328771_00060'].astype(float)\n",
    "flow = flow[['datetime','328771_00060']]# Merge datasets together on datetime index and check if everything is good\n",
    "flow = flow.set_index('datetime')\n",
    "flow['item_id'] = 'flow'\n",
    "\n",
    "            \n",
    "#df=pd.merge(gage, flow, how='inner', left_index=True, right_index=True)\n",
    "#df.head()\n",
    "flow  = flow.rename(columns={\"328771_00060\": \"series\"})\n",
    "\n",
    "flow.head()"
   ]
  },
  {
   "cell_type": "code",
   "execution_count": null,
   "id": "1eb99263",
   "metadata": {},
   "outputs": [],
   "source": []
  },
  {
   "cell_type": "code",
   "execution_count": null,
   "id": "3aee50ef",
   "metadata": {},
   "outputs": [],
   "source": []
  },
  {
   "cell_type": "code",
   "execution_count": 11,
   "id": "a2e1af06",
   "metadata": {},
   "outputs": [],
   "source": [
    "merge = pd.concat([gage, flow])"
   ]
  },
  {
   "cell_type": "code",
   "execution_count": 12,
   "id": "28f5a9ed",
   "metadata": {},
   "outputs": [
    {
     "data": {
      "text/html": [
       "<div>\n",
       "<style scoped>\n",
       "    .dataframe tbody tr th:only-of-type {\n",
       "        vertical-align: middle;\n",
       "    }\n",
       "\n",
       "    .dataframe tbody tr th {\n",
       "        vertical-align: top;\n",
       "    }\n",
       "\n",
       "    .dataframe thead th {\n",
       "        text-align: right;\n",
       "    }\n",
       "</style>\n",
       "<table border=\"1\" class=\"dataframe\">\n",
       "  <thead>\n",
       "    <tr style=\"text-align: right;\">\n",
       "      <th></th>\n",
       "      <th>series</th>\n",
       "      <th>item_id</th>\n",
       "    </tr>\n",
       "    <tr>\n",
       "      <th>datetime</th>\n",
       "      <th></th>\n",
       "      <th></th>\n",
       "    </tr>\n",
       "  </thead>\n",
       "  <tbody>\n",
       "    <tr>\n",
       "      <th>2024-08-12 01:00</th>\n",
       "      <td>8.25</td>\n",
       "      <td>gage</td>\n",
       "    </tr>\n",
       "    <tr>\n",
       "      <th>2024-08-12 01:15</th>\n",
       "      <td>8.24</td>\n",
       "      <td>gage</td>\n",
       "    </tr>\n",
       "    <tr>\n",
       "      <th>2024-08-12 01:30</th>\n",
       "      <td>8.23</td>\n",
       "      <td>gage</td>\n",
       "    </tr>\n",
       "    <tr>\n",
       "      <th>2024-08-12 01:45</th>\n",
       "      <td>8.22</td>\n",
       "      <td>gage</td>\n",
       "    </tr>\n",
       "    <tr>\n",
       "      <th>2024-08-12 02:00</th>\n",
       "      <td>8.20</td>\n",
       "      <td>gage</td>\n",
       "    </tr>\n",
       "    <tr>\n",
       "      <th>...</th>\n",
       "      <td>...</td>\n",
       "      <td>...</td>\n",
       "    </tr>\n",
       "    <tr>\n",
       "      <th>2024-10-17 13:30</th>\n",
       "      <td>644.00</td>\n",
       "      <td>flow</td>\n",
       "    </tr>\n",
       "    <tr>\n",
       "      <th>2024-10-17 13:45</th>\n",
       "      <td>675.00</td>\n",
       "      <td>flow</td>\n",
       "    </tr>\n",
       "    <tr>\n",
       "      <th>2024-10-17 14:00</th>\n",
       "      <td>675.00</td>\n",
       "      <td>flow</td>\n",
       "    </tr>\n",
       "    <tr>\n",
       "      <th>2024-10-17 14:15</th>\n",
       "      <td>675.00</td>\n",
       "      <td>flow</td>\n",
       "    </tr>\n",
       "    <tr>\n",
       "      <th>2024-10-17 14:30</th>\n",
       "      <td>675.00</td>\n",
       "      <td>flow</td>\n",
       "    </tr>\n",
       "  </tbody>\n",
       "</table>\n",
       "<p>13016 rows × 2 columns</p>\n",
       "</div>"
      ],
      "text/plain": [
       "                  series item_id\n",
       "datetime                        \n",
       "2024-08-12 01:00    8.25    gage\n",
       "2024-08-12 01:15    8.24    gage\n",
       "2024-08-12 01:30    8.23    gage\n",
       "2024-08-12 01:45    8.22    gage\n",
       "2024-08-12 02:00    8.20    gage\n",
       "...                  ...     ...\n",
       "2024-10-17 13:30  644.00    flow\n",
       "2024-10-17 13:45  675.00    flow\n",
       "2024-10-17 14:00  675.00    flow\n",
       "2024-10-17 14:15  675.00    flow\n",
       "2024-10-17 14:30  675.00    flow\n",
       "\n",
       "[13016 rows x 2 columns]"
      ]
     },
     "execution_count": 12,
     "metadata": {},
     "output_type": "execute_result"
    }
   ],
   "source": [
    "merge"
   ]
  },
  {
   "cell_type": "code",
   "execution_count": 13,
   "id": "ad9ab3fe",
   "metadata": {},
   "outputs": [
    {
     "data": {
      "text/html": [
       "<div>\n",
       "<style scoped>\n",
       "    .dataframe tbody tr th:only-of-type {\n",
       "        vertical-align: middle;\n",
       "    }\n",
       "\n",
       "    .dataframe tbody tr th {\n",
       "        vertical-align: top;\n",
       "    }\n",
       "\n",
       "    .dataframe thead th {\n",
       "        text-align: right;\n",
       "    }\n",
       "</style>\n",
       "<table border=\"1\" class=\"dataframe\">\n",
       "  <thead>\n",
       "    <tr style=\"text-align: right;\">\n",
       "      <th></th>\n",
       "      <th>datetime</th>\n",
       "      <th>series</th>\n",
       "      <th>item_id</th>\n",
       "    </tr>\n",
       "  </thead>\n",
       "  <tbody>\n",
       "    <tr>\n",
       "      <th>0</th>\n",
       "      <td>2024-08-12 01:00</td>\n",
       "      <td>8.25</td>\n",
       "      <td>gage</td>\n",
       "    </tr>\n",
       "    <tr>\n",
       "      <th>1</th>\n",
       "      <td>2024-08-12 01:15</td>\n",
       "      <td>8.24</td>\n",
       "      <td>gage</td>\n",
       "    </tr>\n",
       "    <tr>\n",
       "      <th>2</th>\n",
       "      <td>2024-08-12 01:30</td>\n",
       "      <td>8.23</td>\n",
       "      <td>gage</td>\n",
       "    </tr>\n",
       "    <tr>\n",
       "      <th>3</th>\n",
       "      <td>2024-08-12 01:45</td>\n",
       "      <td>8.22</td>\n",
       "      <td>gage</td>\n",
       "    </tr>\n",
       "    <tr>\n",
       "      <th>4</th>\n",
       "      <td>2024-08-12 02:00</td>\n",
       "      <td>8.20</td>\n",
       "      <td>gage</td>\n",
       "    </tr>\n",
       "    <tr>\n",
       "      <th>...</th>\n",
       "      <td>...</td>\n",
       "      <td>...</td>\n",
       "      <td>...</td>\n",
       "    </tr>\n",
       "    <tr>\n",
       "      <th>13011</th>\n",
       "      <td>2024-10-17 13:30</td>\n",
       "      <td>644.00</td>\n",
       "      <td>flow</td>\n",
       "    </tr>\n",
       "    <tr>\n",
       "      <th>13012</th>\n",
       "      <td>2024-10-17 13:45</td>\n",
       "      <td>675.00</td>\n",
       "      <td>flow</td>\n",
       "    </tr>\n",
       "    <tr>\n",
       "      <th>13013</th>\n",
       "      <td>2024-10-17 14:00</td>\n",
       "      <td>675.00</td>\n",
       "      <td>flow</td>\n",
       "    </tr>\n",
       "    <tr>\n",
       "      <th>13014</th>\n",
       "      <td>2024-10-17 14:15</td>\n",
       "      <td>675.00</td>\n",
       "      <td>flow</td>\n",
       "    </tr>\n",
       "    <tr>\n",
       "      <th>13015</th>\n",
       "      <td>2024-10-17 14:30</td>\n",
       "      <td>675.00</td>\n",
       "      <td>flow</td>\n",
       "    </tr>\n",
       "  </tbody>\n",
       "</table>\n",
       "<p>13016 rows × 3 columns</p>\n",
       "</div>"
      ],
      "text/plain": [
       "               datetime  series item_id\n",
       "0      2024-08-12 01:00    8.25    gage\n",
       "1      2024-08-12 01:15    8.24    gage\n",
       "2      2024-08-12 01:30    8.23    gage\n",
       "3      2024-08-12 01:45    8.22    gage\n",
       "4      2024-08-12 02:00    8.20    gage\n",
       "...                 ...     ...     ...\n",
       "13011  2024-10-17 13:30  644.00    flow\n",
       "13012  2024-10-17 13:45  675.00    flow\n",
       "13013  2024-10-17 14:00  675.00    flow\n",
       "13014  2024-10-17 14:15  675.00    flow\n",
       "13015  2024-10-17 14:30  675.00    flow\n",
       "\n",
       "[13016 rows x 3 columns]"
      ]
     },
     "execution_count": 13,
     "metadata": {},
     "output_type": "execute_result"
    }
   ],
   "source": [
    "merge.reset_index(inplace=True)\n",
    "\n",
    "merge"
   ]
  },
  {
   "cell_type": "code",
   "execution_count": 14,
   "id": "d1553d16",
   "metadata": {},
   "outputs": [
    {
     "name": "stderr",
     "output_type": "stream",
     "text": [
      "/Users/tott/opt/anaconda3/envs/py310/lib/python3.10/site-packages/autogluon/timeseries/dataset/ts_dataframe.py:942: FutureWarning: 'H' is deprecated and will be removed in a future version, please use 'h' instead.\n",
      "  offset = pd.tseries.frequencies.to_offset(freq)\n"
     ]
    },
    {
     "data": {
      "text/html": [
       "<div>\n",
       "<style scoped>\n",
       "    .dataframe tbody tr th:only-of-type {\n",
       "        vertical-align: middle;\n",
       "    }\n",
       "\n",
       "    .dataframe tbody tr th {\n",
       "        vertical-align: top;\n",
       "    }\n",
       "\n",
       "    .dataframe thead th {\n",
       "        text-align: right;\n",
       "    }\n",
       "</style>\n",
       "<table border=\"1\" class=\"dataframe\">\n",
       "  <thead>\n",
       "    <tr style=\"text-align: right;\">\n",
       "      <th></th>\n",
       "      <th></th>\n",
       "      <th>series</th>\n",
       "    </tr>\n",
       "    <tr>\n",
       "      <th>item_id</th>\n",
       "      <th>timestamp</th>\n",
       "      <th></th>\n",
       "    </tr>\n",
       "  </thead>\n",
       "  <tbody>\n",
       "    <tr>\n",
       "      <th rowspan=\"5\" valign=\"top\">gage</th>\n",
       "      <th>2024-08-12 01:00:00</th>\n",
       "      <td>8.25</td>\n",
       "    </tr>\n",
       "    <tr>\n",
       "      <th>2024-08-12 02:00:00</th>\n",
       "      <td>8.20</td>\n",
       "    </tr>\n",
       "    <tr>\n",
       "      <th>2024-08-12 03:00:00</th>\n",
       "      <td>8.18</td>\n",
       "    </tr>\n",
       "    <tr>\n",
       "      <th>2024-08-12 04:00:00</th>\n",
       "      <td>8.14</td>\n",
       "    </tr>\n",
       "    <tr>\n",
       "      <th>2024-08-12 05:00:00</th>\n",
       "      <td>8.11</td>\n",
       "    </tr>\n",
       "  </tbody>\n",
       "</table>\n",
       "</div>"
      ],
      "text/plain": [
       "                             series\n",
       "item_id timestamp                  \n",
       "gage    2024-08-12 01:00:00    8.25\n",
       "        2024-08-12 02:00:00    8.20\n",
       "        2024-08-12 03:00:00    8.18\n",
       "        2024-08-12 04:00:00    8.14\n",
       "        2024-08-12 05:00:00    8.11"
      ]
     },
     "execution_count": 14,
     "metadata": {},
     "output_type": "execute_result"
    }
   ],
   "source": [
    "test_data = TimeSeriesDataFrame.from_data_frame(merge, id_column=\"item_id\", timestamp_column='datetime') #, timestamp_column=merge.index\n",
    "test_data = test_data.convert_frequency(freq='H', agg_numeric=\"max\")\n",
    "test_data.head()"
   ]
  },
  {
   "cell_type": "code",
   "execution_count": 15,
   "id": "325d8741",
   "metadata": {},
   "outputs": [],
   "source": [
    "predictor = TimeSeriesPredictor.load('schuylkill_gage_autogluon')"
   ]
  },
  {
   "cell_type": "code",
   "execution_count": 16,
   "id": "713ed137",
   "metadata": {},
   "outputs": [
    {
     "name": "stderr",
     "output_type": "stream",
     "text": [
      "data contains missing values represented by NaN. They have been filled by carrying forward the last valid observation.\n"
     ]
    }
   ],
   "source": [
    "predictions = predictor.predict(test_data)"
   ]
  },
  {
   "cell_type": "code",
   "execution_count": 23,
   "id": "dc371b76",
   "metadata": {},
   "outputs": [
    {
     "data": {
      "image/png": "[encoded data removed]",
      "text/plain": [
       "<Figure size 1000x500 with 1 Axes>"
      ]
     },
     "metadata": {},
     "output_type": "display_data"
    }
   ],
   "source": [
    "# TimeSeriesDataFrame can also be loaded directly from a file\n",
    "#test_data = TimeSeriesDataFrame.from_path(\"https://autogluon.s3.amazonaws.com/datasets/timeseries/m4_hourly_subset/test.csv\")\n",
    "\n",
    "#test_data = predictions\n",
    "\n",
    "item_id = 'gage'\n",
    "\n",
    "plt.figure(figsize=(10, 5))\n",
    "plt.title(item_id+' Series Forecast')\n",
    "\n",
    "y_pred = predictions.loc[item_id]\n",
    "\n",
    "plt.plot(y_pred[\"mean\"], label=\"Mean Gage Height Forecast\")\n",
    "\n",
    "\n",
    "plt.fill_between(\n",
    "    y_pred.index, y_pred[\"0.1\"], y_pred[\"0.9\"], color=\"red\", alpha=0.1, label=f\"10%-90% confidence interval\"\n",
    ")\n",
    "plt.figtext(0.15, 0.15, 'Updated on: '+str(current_dateTime), ha='left', fontsize=10)\n",
    "plt.legend(loc = 'upper left');\n",
    "plt.savefig('forecast.png')"
   ]
  },
  {
   "cell_type": "code",
   "execution_count": 24,
   "id": "7a475c11",
   "metadata": {},
   "outputs": [
    {
     "data": {
      "text/html": [
       "<div>\n",
       "<style scoped>\n",
       "    .dataframe tbody tr th:only-of-type {\n",
       "        vertical-align: middle;\n",
       "    }\n",
       "\n",
       "    .dataframe tbody tr th {\n",
       "        vertical-align: top;\n",
       "    }\n",
       "\n",
       "    .dataframe thead th {\n",
       "        text-align: right;\n",
       "    }\n",
       "</style>\n",
       "<table border=\"1\" class=\"dataframe\">\n",
       "  <thead>\n",
       "    <tr style=\"text-align: right;\">\n",
       "      <th></th>\n",
       "      <th>mean</th>\n",
       "      <th>0.1</th>\n",
       "      <th>0.9</th>\n",
       "    </tr>\n",
       "    <tr>\n",
       "      <th>timestamp</th>\n",
       "      <th></th>\n",
       "      <th></th>\n",
       "      <th></th>\n",
       "    </tr>\n",
       "  </thead>\n",
       "  <tbody>\n",
       "    <tr>\n",
       "      <th>2024-10-17 15:00:00</th>\n",
       "      <td>6.639820</td>\n",
       "      <td>6.625352</td>\n",
       "      <td>6.657385</td>\n",
       "    </tr>\n",
       "    <tr>\n",
       "      <th>2024-10-17 16:00:00</th>\n",
       "      <td>6.639642</td>\n",
       "      <td>6.617865</td>\n",
       "      <td>6.661772</td>\n",
       "    </tr>\n",
       "    <tr>\n",
       "      <th>2024-10-17 17:00:00</th>\n",
       "      <td>6.639464</td>\n",
       "      <td>6.610397</td>\n",
       "      <td>6.665447</td>\n",
       "    </tr>\n",
       "    <tr>\n",
       "      <th>2024-10-17 18:00:00</th>\n",
       "      <td>6.639287</td>\n",
       "      <td>6.609387</td>\n",
       "      <td>6.663827</td>\n",
       "    </tr>\n",
       "    <tr>\n",
       "      <th>2024-10-17 19:00:00</th>\n",
       "      <td>6.639109</td>\n",
       "      <td>6.605447</td>\n",
       "      <td>6.671534</td>\n",
       "    </tr>\n",
       "    <tr>\n",
       "      <th>2024-10-17 20:00:00</th>\n",
       "      <td>6.638931</td>\n",
       "      <td>6.601512</td>\n",
       "      <td>6.676536</td>\n",
       "    </tr>\n",
       "  </tbody>\n",
       "</table>\n",
       "</div>"
      ],
      "text/plain": [
       "                         mean       0.1       0.9\n",
       "timestamp                                        \n",
       "2024-10-17 15:00:00  6.639820  6.625352  6.657385\n",
       "2024-10-17 16:00:00  6.639642  6.617865  6.661772\n",
       "2024-10-17 17:00:00  6.639464  6.610397  6.665447\n",
       "2024-10-17 18:00:00  6.639287  6.609387  6.663827\n",
       "2024-10-17 19:00:00  6.639109  6.605447  6.671534\n",
       "2024-10-17 20:00:00  6.638931  6.601512  6.676536"
      ]
     },
     "execution_count": 24,
     "metadata": {},
     "output_type": "execute_result"
    }
   ],
   "source": [
    "y_pred[['mean', '0.1', '0.9']]"
   ]
  },
  {
   "cell_type": "code",
   "execution_count": 18,
   "id": "c5de85c6",
   "metadata": {},
   "outputs": [
    {
     "name": "stdout",
     "output_type": "stream",
     "text": [
      "2024-10-17 14:20:48.453866-05:00\n"
     ]
    }
   ],
   "source": [
    "print(current_dateTime)"
   ]
  },
  {
   "cell_type": "code",
   "execution_count": null,
   "id": "c648f910",
   "metadata": {},
   "outputs": [],
   "source": []
  }
 ],
 "metadata": {
  "kernelspec": {
   "display_name": "Python 3 (ipykernel)",
   "language": "python",
   "name": "python3"
  },
  "language_info": {
   "codemirror_mode": {
    "name": "ipython",
    "version": 3
   },
   "file_extension": ".py",
   "mimetype": "text/x-python",
   "name": "python",
   "nbconvert_exporter": "python",
   "pygments_lexer": "ipython3",
   "version": "3.10.11"
  }
 },
 "nbformat": 4,
 "nbformat_minor": 5
}
