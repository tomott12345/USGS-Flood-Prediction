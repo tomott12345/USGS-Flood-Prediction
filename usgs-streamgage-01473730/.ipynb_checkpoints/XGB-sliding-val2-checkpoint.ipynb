{
 "cells": [
  {
   "cell_type": "code",
   "execution_count": 52,
   "id": "a99a5fdc-f566-439f-a30a-7499fa384e92",
   "metadata": {},
   "outputs": [],
   "source": [
    "import pandas as pd\n",
    "from datetime import datetime, timedelta\n",
    "import numpy as np\n",
    "import xgboost as xgb\n",
    "import psutil\n",
    "import onnxmltools\n",
    "from skl2onnx import convert_sklearn\n",
    "from skl2onnx.common.data_types import FloatTensorType\n",
    "from skl2onnx import update_registered_converter\n",
    "from skl2onnx.common.shape_calculator import calculate_linear_regressor_output_shapes\n",
    "from onnxmltools.convert.xgboost.operator_converters.XGBoost import convert_xgboost\n",
    "from onnxruntime import InferenceSession\n",
    "from matplotlib import pyplot as plt\n",
    "from sklearn.metrics import mean_squared_error\n",
    "from sklearn.model_selection import train_test_split\n",
    "from sklearn.model_selection import TimeSeriesSplit"
   ]
  },
  {
   "cell_type": "code",
   "execution_count": 53,
   "id": "ecee9b49-7c7e-4316-960c-9c7232f5c99e",
   "metadata": {},
   "outputs": [
    {
     "name": "stdout",
     "output_type": "stream",
     "text": [
      "Data loaded successfully from https://nwis.waterservices.usgs.gov/nwis/iv/?sites=01388500&parameterCd=00065&startDT=2022-11-11T10:29:53.000-05:00&endDT=2024-11-10T10:29:53.000-05:00&siteStatus=all&format=rdb with skiprows=24\n",
      "Data loaded successfully from https://waterservices.usgs.gov/nwis/iv/?sites=01388500&parameterCd=00060&startDT=2022-11-11T10:29:53.000-05:00&endDT=2024-11-10T10:29:53.000-05:00&siteStatus=all&format=rdb with skiprows=24\n",
      "Data merged and index reset successfully.\n"
     ]
    },
    {
     "data": {
      "text/html": [
       "<div>\n",
       "<style scoped>\n",
       "    .dataframe tbody tr th:only-of-type {\n",
       "        vertical-align: middle;\n",
       "    }\n",
       "\n",
       "    .dataframe tbody tr th {\n",
       "        vertical-align: top;\n",
       "    }\n",
       "\n",
       "    .dataframe thead th {\n",
       "        text-align: right;\n",
       "    }\n",
       "</style>\n",
       "<table border=\"1\" class=\"dataframe\">\n",
       "  <thead>\n",
       "    <tr style=\"text-align: right;\">\n",
       "      <th></th>\n",
       "      <th>datetime</th>\n",
       "      <th>194446_00065</th>\n",
       "      <th>194445_00060</th>\n",
       "    </tr>\n",
       "  </thead>\n",
       "  <tbody>\n",
       "    <tr>\n",
       "      <th>0</th>\n",
       "      <td>2022-11-11 10:30:00</td>\n",
       "      <td>7.7</td>\n",
       "      <td>112.0</td>\n",
       "    </tr>\n",
       "    <tr>\n",
       "      <th>1</th>\n",
       "      <td>2022-11-11 10:45:00</td>\n",
       "      <td>7.7</td>\n",
       "      <td>112.0</td>\n",
       "    </tr>\n",
       "    <tr>\n",
       "      <th>2</th>\n",
       "      <td>2022-11-11 11:00:00</td>\n",
       "      <td>7.7</td>\n",
       "      <td>112.0</td>\n",
       "    </tr>\n",
       "    <tr>\n",
       "      <th>3</th>\n",
       "      <td>2022-11-11 11:15:00</td>\n",
       "      <td>7.7</td>\n",
       "      <td>112.0</td>\n",
       "    </tr>\n",
       "    <tr>\n",
       "      <th>4</th>\n",
       "      <td>2022-11-11 11:30:00</td>\n",
       "      <td>7.7</td>\n",
       "      <td>112.0</td>\n",
       "    </tr>\n",
       "  </tbody>\n",
       "</table>\n",
       "</div>"
      ],
      "text/plain": [
       "             datetime  194446_00065  194445_00060\n",
       "0 2022-11-11 10:30:00           7.7         112.0\n",
       "1 2022-11-11 10:45:00           7.7         112.0\n",
       "2 2022-11-11 11:00:00           7.7         112.0\n",
       "3 2022-11-11 11:15:00           7.7         112.0\n",
       "4 2022-11-11 11:30:00           7.7         112.0"
      ]
     },
     "execution_count": 53,
     "metadata": {},
     "output_type": "execute_result"
    }
   ],
   "source": [
    "# Define dynamic begin and end dates\n",
    "end_date = datetime.now().strftime('%Y-%m-%dT%H:%M:%S.000-05:00')\n",
    "begin_date = (datetime.now() - timedelta(days=2*365)).strftime('%Y-%m-%dT%H:%M:%S.000-05:00')\n",
    "\n",
    "# USGS streamgage site\n",
    "site_code = '01388500'  # Schuylkill River at Conshohocken, PA\n",
    "\n",
    "# URLs for gage height and flow data\n",
    "gage_url = f'https://nwis.waterservices.usgs.gov/nwis/iv/?sites={site_code}&parameterCd=00065&startDT={begin_date}&endDT={end_date}&siteStatus=all&format=rdb'\n",
    "flow_url = f'https://waterservices.usgs.gov/nwis/iv/?sites={site_code}&parameterCd=00060&startDT={begin_date}&endDT={end_date}&siteStatus=all&format=rdb'\n",
    "\n",
    "# Function to load and merge data with dynamic skiprows and column filtering\n",
    "def load_data(gage_url, flow_url, skip_options=range(24, 30)):\n",
    "    def fetch_data(url, column_suffix):\n",
    "        for skip in skip_options:\n",
    "            try:\n",
    "                # Attempt to read data with specified skiprows\n",
    "                data = pd.read_csv(url, sep='\\t', skiprows=skip, comment='#')\n",
    "                \n",
    "                # Drop fully empty columns, which are usually metadata\n",
    "                data = data.dropna(how=\"all\", axis=1)\n",
    "                \n",
    "                # Select datetime and the specific measurement column based on suffix\n",
    "                measurement_col = [col for col in data.columns if col.endswith(column_suffix)]\n",
    "                if not measurement_col:\n",
    "                    raise ValueError(f\"No column ending with {column_suffix} found.\")\n",
    "                \n",
    "                # Convert measurement column to numeric, handling non-numeric entries as NaN\n",
    "                data[measurement_col[0]] = pd.to_numeric(data[measurement_col[0]], errors='coerce')\n",
    "                \n",
    "                # Drop rows with missing datetime or measurement values\n",
    "                data = data.dropna(subset=['datetime', measurement_col[0]])\n",
    "                \n",
    "                # Set datetime as index\n",
    "                data = data[['datetime', measurement_col[0]]].set_index('datetime')\n",
    "                data.index = pd.to_datetime(data.index, errors='coerce')\n",
    "                \n",
    "                # Ensure datetime conversion succeeded\n",
    "                if data.index.isnull().any():\n",
    "                    raise ValueError(\"Datetime conversion failed.\")\n",
    "                \n",
    "                print(f\"Data loaded successfully from {url} with skiprows={skip}\")\n",
    "                return data, measurement_col[0]\n",
    "            except (ValueError, KeyError, IndexError, pd.errors.ParserError) as e:\n",
    "                print(f\"Failed with skiprows={skip} for {url}: {e}\")\n",
    "        \n",
    "        raise ValueError(f\"Failed to load data from {url} with any specified skiprows option.\")\n",
    "    \n",
    "    # Load gage and flow data\n",
    "    gage_data, gage_col_name = fetch_data(gage_url, '_00065')\n",
    "    flow_data, flow_col_name = fetch_data(flow_url, '_00060')\n",
    "\n",
    "    # Merge the datasets on the datetime index\n",
    "    df = pd.merge(gage_data, flow_data, how='inner', left_index=True, right_index=True)\n",
    "    df.columns = [gage_col_name, flow_col_name]  # Rename columns with detected names\n",
    "\n",
    "    # Reset the index to make datetime a regular column\n",
    "    df = df.reset_index()\n",
    "    \n",
    "    print(\"Data merged and index reset successfully.\")\n",
    "    return df\n",
    "\n",
    "# Load and merge data from both gage and flow sources\n",
    "data = load_data(gage_url, flow_url)\n",
    "data.head()\n"
   ]
  },
  {
   "cell_type": "code",
   "execution_count": 54,
   "id": "a1a48608-6e9c-48b2-8592-89687a5ead01",
   "metadata": {},
   "outputs": [
    {
     "data": {
      "text/html": [
       "<div>\n",
       "<style scoped>\n",
       "    .dataframe tbody tr th:only-of-type {\n",
       "        vertical-align: middle;\n",
       "    }\n",
       "\n",
       "    .dataframe tbody tr th {\n",
       "        vertical-align: top;\n",
       "    }\n",
       "\n",
       "    .dataframe thead th {\n",
       "        text-align: right;\n",
       "    }\n",
       "</style>\n",
       "<table border=\"1\" class=\"dataframe\">\n",
       "  <thead>\n",
       "    <tr style=\"text-align: right;\">\n",
       "      <th></th>\n",
       "      <th>datetime</th>\n",
       "      <th>194446_00065</th>\n",
       "      <th>194445_00060</th>\n",
       "    </tr>\n",
       "  </thead>\n",
       "  <tbody>\n",
       "    <tr>\n",
       "      <th>0</th>\n",
       "      <td>2022-11-11 10:30:00</td>\n",
       "      <td>7.7</td>\n",
       "      <td>112.0</td>\n",
       "    </tr>\n",
       "    <tr>\n",
       "      <th>1</th>\n",
       "      <td>2022-11-11 10:45:00</td>\n",
       "      <td>7.7</td>\n",
       "      <td>112.0</td>\n",
       "    </tr>\n",
       "    <tr>\n",
       "      <th>2</th>\n",
       "      <td>2022-11-11 11:00:00</td>\n",
       "      <td>7.7</td>\n",
       "      <td>112.0</td>\n",
       "    </tr>\n",
       "    <tr>\n",
       "      <th>3</th>\n",
       "      <td>2022-11-11 11:15:00</td>\n",
       "      <td>7.7</td>\n",
       "      <td>112.0</td>\n",
       "    </tr>\n",
       "    <tr>\n",
       "      <th>4</th>\n",
       "      <td>2022-11-11 11:30:00</td>\n",
       "      <td>7.7</td>\n",
       "      <td>112.0</td>\n",
       "    </tr>\n",
       "  </tbody>\n",
       "</table>\n",
       "</div>"
      ],
      "text/plain": [
       "             datetime  194446_00065  194445_00060\n",
       "0 2022-11-11 10:30:00           7.7         112.0\n",
       "1 2022-11-11 10:45:00           7.7         112.0\n",
       "2 2022-11-11 11:00:00           7.7         112.0\n",
       "3 2022-11-11 11:15:00           7.7         112.0\n",
       "4 2022-11-11 11:30:00           7.7         112.0"
      ]
     },
     "execution_count": 54,
     "metadata": {},
     "output_type": "execute_result"
    }
   ],
   "source": [
    "# Register a converter for XGBRegressor\n",
    "update_registered_converter(\n",
    "    xgb.XGBRegressor, \"XGBoostXGBRegressor\",\n",
    "    calculate_linear_regressor_output_shapes, convert_xgboost\n",
    ")\n",
    "\n",
    "# Function to log CPU and memory usage in MB\n",
    "def log_system_usage(stage=\"\"):\n",
    "    # Get overall CPU usage\n",
    "    cpu_percent = psutil.cpu_percent(interval=None)\n",
    "    \n",
    "    # Get memory usage information\n",
    "    memory_info = psutil.virtual_memory()\n",
    "    total_memory_mb = memory_info.total / (1024 ** 2)  # Convert from bytes to MB\n",
    "    available_memory_mb = memory_info.available / (1024 ** 2)  # Available memory in MB\n",
    "    used_memory_mb = memory_info.used / (1024 ** 2)  # System memory used in MB\n",
    "    \n",
    "    # Get memory used by the current process\n",
    "    process = psutil.Process()\n",
    "    process_memory_mb = process.memory_info().rss / (1024 ** 2)  # Resident Set Size (RSS) in MB\n",
    "\n",
    "    print(f\"[{stage}] CPU Usage: {cpu_percent}%\")\n",
    "    print(f\"[{stage}] Total System Memory: {total_memory_mb:.2f} MB\")\n",
    "    print(f\"[{stage}] Available Memory: {available_memory_mb:.2f} MB\")\n",
    "    print(f\"[{stage}] System Used Memory: {used_memory_mb:.2f} MB\")\n",
    "    print(f\"[{stage}] Process Memory Usage: {process_memory_mb:.2f} MB\")\n",
    "\n",
    "# Load and preprocess the multivariate time series training dataset\n",
    "#data = pd.read_csv('streamgage_data.csv')\n",
    "\n",
    "data.head()"
   ]
  },
  {
   "cell_type": "code",
   "execution_count": 55,
   "id": "71416b8e-4c21-4e0a-8eb5-e9f911aac91d",
   "metadata": {},
   "outputs": [],
   "source": [
    "# Check if 'datetime' column exists and convert or drop it\n",
    "if 'datetime' in data.columns:\n",
    "    data['datetime'] = pd.to_datetime(data['datetime']).astype(int) / 10**9  # Unix timestamp in seconds\n",
    "\n",
    "# Set the forecast length (number of time units to predict ahead)\n",
    "forecast_length = 24\n",
    "\n",
    "# Assuming `data` is already loaded, and `target_column` has been dynamically identified\n",
    "# Set up TimeSeriesSplit\n",
    "tscv = TimeSeriesSplit(n_splits=5)  # Adjust n_splits based on the amount of data\n",
    "\n",
    "# Initialize lists to store RMSE values for each fold\n",
    "train_rmse_scores = []\n",
    "val_rmse_scores = []"
   ]
  },
  {
   "cell_type": "code",
   "execution_count": 56,
   "id": "b8608590-8383-4151-b0f3-726ae776afab",
   "metadata": {},
   "outputs": [],
   "source": [
    "# Identify columns ending with '_00065' and '_00060' dynamically\n",
    "target_column = [col for col in data.columns if col.endswith('_00065')][0]\n",
    "flow_column = [col for col in data.columns if col.endswith('_00060')][0]\n",
    "\n",
    "# Set up features and target dynamically\n",
    "X = data.drop(columns=[target_column])\n",
    "y = data[target_column]"
   ]
  },
  {
   "cell_type": "code",
   "execution_count": 57,
   "id": "492d8b9c-b9cc-4517-9d3e-cf71c8e046b6",
   "metadata": {},
   "outputs": [],
   "source": [
    "X.columns = [f\"f{i}\" for i in range(X.shape[1])]  # Rename columns to match ONNX format requirements"
   ]
  },
  {
   "cell_type": "code",
   "execution_count": 58,
   "id": "7e8f1f3c-c0c9-4928-8fcb-24e78694bdba",
   "metadata": {},
   "outputs": [
    {
     "name": "stdout",
     "output_type": "stream",
     "text": [
      "[] CPU Usage: 7.5%\n",
      "[] Total System Memory: 16384.00 MB\n",
      "[] Available Memory: 4784.05 MB\n",
      "[] System Used Memory: 6793.88 MB\n",
      "[] Process Memory Usage: 175.84 MB\n"
     ]
    }
   ],
   "source": [
    "log_system_usage()"
   ]
  },
  {
   "cell_type": "code",
   "execution_count": 59,
   "id": "78e51ba2-7eb6-4b1f-82ef-007b6198a55a",
   "metadata": {},
   "outputs": [
    {
     "name": "stdout",
     "output_type": "stream",
     "text": [
      "Fold 1: Training RMSE = 0.01662318158982449, Validation RMSE = 0.29431923032316126\n",
      "Fold 2: Training RMSE = 0.02651790068837972, Validation RMSE = 0.025647890167985153\n",
      "Fold 3: Training RMSE = 0.03600499151192117, Validation RMSE = 0.7496997920137445\n",
      "Fold 4: Training RMSE = 0.06919340657578316, Validation RMSE = 0.04585374060663802\n",
      "Fold 5: Training RMSE = 0.06779611911169313, Validation RMSE = 0.26271010318773874\n"
     ]
    }
   ],
   "source": [
    "# TimeSeriesSplit cross-validation\n",
    "for fold, (train_index, val_index) in enumerate(tscv.split(X)):\n",
    "    X_train, X_val = X.iloc[train_index], X.iloc[val_index]\n",
    "    y_train, y_val = y.iloc[train_index], y.iloc[val_index]\n",
    "    \n",
    "    # Initialize and train the model\n",
    "    xgb_model = xgb.XGBRegressor(objective='reg:squarederror', n_estimators=100)\n",
    "    xgb_model.fit(X_train, y_train)\n",
    "    \n",
    "    # Predict and calculate RMSE for training and validation sets\n",
    "    y_train_pred = xgb_model.predict(X_train)\n",
    "    y_val_pred = xgb_model.predict(X_val)\n",
    "    \n",
    "    train_rmse = mean_squared_error(y_train, y_train_pred, squared=False)\n",
    "    val_rmse = mean_squared_error(y_val, y_val_pred, squared=False)\n",
    "    \n",
    "    train_rmse_scores.append(train_rmse)\n",
    "    val_rmse_scores.append(val_rmse)\n",
    "    \n",
    "    print(f\"Fold {fold + 1}: Training RMSE = {train_rmse}, Validation RMSE = {val_rmse}\")\n"
   ]
  },
  {
   "cell_type": "code",
   "execution_count": 60,
   "id": "355cdf2a-eada-4005-a2d1-8686e77503b8",
   "metadata": {},
   "outputs": [
    {
     "name": "stdout",
     "output_type": "stream",
     "text": [
      "[] CPU Usage: 99.4%\n",
      "[] Total System Memory: 16384.00 MB\n",
      "[] Available Memory: 4755.03 MB\n",
      "[] System Used Memory: 6835.59 MB\n",
      "[] Process Memory Usage: 203.75 MB\n"
     ]
    }
   ],
   "source": [
    "log_system_usage()"
   ]
  },
  {
   "cell_type": "code",
   "execution_count": 61,
   "id": "f18737a2-79ce-4b00-8503-d5793eded1b4",
   "metadata": {},
   "outputs": [
    {
     "name": "stdout",
     "output_type": "stream",
     "text": [
      "Average Training RMSE across folds: 0.04322711989552034\n",
      "Average Validation RMSE across folds: 0.27564615125985353\n",
      "Final Training RMSE on Entire Dataset: 0.07409981858757075\n"
     ]
    }
   ],
   "source": [
    "# Calculate average RMSE across all folds\n",
    "avg_train_rmse = np.mean(train_rmse_scores)\n",
    "avg_val_rmse = np.mean(val_rmse_scores)\n",
    "print(f\"Average Training RMSE across folds: {avg_train_rmse}\")\n",
    "print(f\"Average Validation RMSE across folds: {avg_val_rmse}\")\n",
    "\n",
    "# Train the model on the entire dataset\n",
    "xgb_model.fit(X, y)\n",
    "\n",
    "# Predict and calculate RMSE on entire dataset\n",
    "y_pred = xgb_model.predict(X)\n",
    "train_rmse_final = mean_squared_error(y, y_pred, squared=False)\n",
    "print(f\"Final Training RMSE on Entire Dataset: {train_rmse_final}\")"
   ]
  },
  {
   "cell_type": "code",
   "execution_count": 62,
   "id": "eb235b7e-11c2-4e34-988b-898e44063b80",
   "metadata": {},
   "outputs": [
    {
     "name": "stdout",
     "output_type": "stream",
     "text": [
      "[] CPU Usage: 100.0%\n",
      "[] Total System Memory: 16384.00 MB\n",
      "[] Available Memory: 4735.31 MB\n",
      "[] System Used Memory: 6855.47 MB\n",
      "[] Process Memory Usage: 206.86 MB\n"
     ]
    }
   ],
   "source": [
    "log_system_usage()"
   ]
  },
  {
   "cell_type": "code",
   "execution_count": 63,
   "id": "ae3bc01e-9d8d-40c0-91fa-496464324acd",
   "metadata": {},
   "outputs": [],
   "source": [
    "#Final Build for Deployment\n",
    "# Split data into training and test sets\n",
    "X_train, X_test, y_train, y_test = train_test_split(X, y, test_size=0.2, shuffle=False)"
   ]
  },
  {
   "cell_type": "code",
   "execution_count": 64,
   "id": "79032b89-a80a-40cc-92cc-ed1e376161b6",
   "metadata": {},
   "outputs": [
    {
     "data": {
      "image/png": "[encoded data removed]",
      "text/plain": [
       "<Figure size 1200x600 with 1 Axes>"
      ]
     },
     "metadata": {},
     "output_type": "display_data"
    }
   ],
   "source": [
    "# Identify the length of the training set\n",
    "train_size = len(y_train)\n",
    "\n",
    "# Extract corresponding timestamps for training and test sets\n",
    "train_timestamps = data.index[:train_size]\n",
    "test_timestamps = data.index[train_size:train_size + len(y_test)]\n",
    "\n",
    "# Plot the training and test data with their respective timestamps\n",
    "plt.figure(figsize=(12, 6))\n",
    "plt.plot(train_timestamps, y_train, label=\"Training data\")\n",
    "plt.plot(test_timestamps, y_test, label=\"Test data\")\n",
    "\n",
    "# Add labels and legend\n",
    "plt.xlabel(\"Timestamp\")\n",
    "plt.ylabel(\"Gage\")\n",
    "plt.legend()\n",
    "plt.show()"
   ]
  },
  {
   "cell_type": "code",
   "execution_count": 65,
   "id": "b34c4377-c665-43ee-96fa-d315f3032f3c",
   "metadata": {},
   "outputs": [
    {
     "data": {
      "text/html": [
       "<style>#sk-container-id-4 {color: black;}#sk-container-id-4 pre{padding: 0;}#sk-container-id-4 div.sk-toggleable {background-color: white;}#sk-container-id-4 label.sk-toggleable__label {cursor: pointer;display: block;width: 100%;margin-bottom: 0;padding: 0.3em;box-sizing: border-box;text-align: center;}#sk-container-id-4 label.sk-toggleable__label-arrow:before {content: \"▸\";float: left;margin-right: 0.25em;color: #696969;}#sk-container-id-4 label.sk-toggleable__label-arrow:hover:before {color: black;}#sk-container-id-4 div.sk-estimator:hover label.sk-toggleable__label-arrow:before {color: black;}#sk-container-id-4 div.sk-toggleable__content {max-height: 0;max-width: 0;overflow: hidden;text-align: left;background-color: #f0f8ff;}#sk-container-id-4 div.sk-toggleable__content pre {margin: 0.2em;color: black;border-radius: 0.25em;background-color: #f0f8ff;}#sk-container-id-4 input.sk-toggleable__control:checked~div.sk-toggleable__content {max-height: 200px;max-width: 100%;overflow: auto;}#sk-container-id-4 input.sk-toggleable__control:checked~label.sk-toggleable__label-arrow:before {content: \"▾\";}#sk-container-id-4 div.sk-estimator input.sk-toggleable__control:checked~label.sk-toggleable__label {background-color: #d4ebff;}#sk-container-id-4 div.sk-label input.sk-toggleable__control:checked~label.sk-toggleable__label {background-color: #d4ebff;}#sk-container-id-4 input.sk-hidden--visually {border: 0;clip: rect(1px 1px 1px 1px);clip: rect(1px, 1px, 1px, 1px);height: 1px;margin: -1px;overflow: hidden;padding: 0;position: absolute;width: 1px;}#sk-container-id-4 div.sk-estimator {font-family: monospace;background-color: #f0f8ff;border: 1px dotted black;border-radius: 0.25em;box-sizing: border-box;margin-bottom: 0.5em;}#sk-container-id-4 div.sk-estimator:hover {background-color: #d4ebff;}#sk-container-id-4 div.sk-parallel-item::after {content: \"\";width: 100%;border-bottom: 1px solid gray;flex-grow: 1;}#sk-container-id-4 div.sk-label:hover label.sk-toggleable__label {background-color: #d4ebff;}#sk-container-id-4 div.sk-serial::before {content: \"\";position: absolute;border-left: 1px solid gray;box-sizing: border-box;top: 0;bottom: 0;left: 50%;z-index: 0;}#sk-container-id-4 div.sk-serial {display: flex;flex-direction: column;align-items: center;background-color: white;padding-right: 0.2em;padding-left: 0.2em;position: relative;}#sk-container-id-4 div.sk-item {position: relative;z-index: 1;}#sk-container-id-4 div.sk-parallel {display: flex;align-items: stretch;justify-content: center;background-color: white;position: relative;}#sk-container-id-4 div.sk-item::before, #sk-container-id-4 div.sk-parallel-item::before {content: \"\";position: absolute;border-left: 1px solid gray;box-sizing: border-box;top: 0;bottom: 0;left: 50%;z-index: -1;}#sk-container-id-4 div.sk-parallel-item {display: flex;flex-direction: column;z-index: 1;position: relative;background-color: white;}#sk-container-id-4 div.sk-parallel-item:first-child::after {align-self: flex-end;width: 50%;}#sk-container-id-4 div.sk-parallel-item:last-child::after {align-self: flex-start;width: 50%;}#sk-container-id-4 div.sk-parallel-item:only-child::after {width: 0;}#sk-container-id-4 div.sk-dashed-wrapped {border: 1px dashed gray;margin: 0 0.4em 0.5em 0.4em;box-sizing: border-box;padding-bottom: 0.4em;background-color: white;}#sk-container-id-4 div.sk-label label {font-family: monospace;font-weight: bold;display: inline-block;line-height: 1.2em;}#sk-container-id-4 div.sk-label-container {text-align: center;}#sk-container-id-4 div.sk-container {/* jupyter's `normalize.less` sets `[hidden] { display: none; }` but bootstrap.min.css set `[hidden] { display: none !important; }` so we also need the `!important` here to be able to override the default hidden behavior on the sphinx rendered scikit-learn.org. See: https://github.com/scikit-learn/scikit-learn/issues/21755 */display: inline-block !important;position: relative;}#sk-container-id-4 div.sk-text-repr-fallback {display: none;}</style><div id=\"sk-container-id-4\" class=\"sk-top-container\"><div class=\"sk-text-repr-fallback\"><pre>XGBRegressor(base_score=None, booster=None, callbacks=None,\n",
       "             colsample_bylevel=None, colsample_bynode=None,\n",
       "             colsample_bytree=None, device=None, early_stopping_rounds=None,\n",
       "             enable_categorical=False, eval_metric=None, feature_types=None,\n",
       "             gamma=None, grow_policy=None, importance_type=None,\n",
       "             interaction_constraints=None, learning_rate=None, max_bin=None,\n",
       "             max_cat_threshold=None, max_cat_to_onehot=None,\n",
       "             max_delta_step=None, max_depth=None, max_leaves=None,\n",
       "             min_child_weight=None, missing=nan, monotone_constraints=None,\n",
       "             multi_strategy=None, n_estimators=100, n_jobs=None,\n",
       "             num_parallel_tree=None, random_state=None, ...)</pre><b>In a Jupyter environment, please rerun this cell to show the HTML representation or trust the notebook. <br />On GitHub, the HTML representation is unable to render, please try loading this page with nbviewer.org.</b></div><div class=\"sk-container\" hidden><div class=\"sk-item\"><div class=\"sk-estimator sk-toggleable\"><input class=\"sk-toggleable__control sk-hidden--visually\" id=\"sk-estimator-id-4\" type=\"checkbox\" checked><label for=\"sk-estimator-id-4\" class=\"sk-toggleable__label sk-toggleable__label-arrow\">XGBRegressor</label><div class=\"sk-toggleable__content\"><pre>XGBRegressor(base_score=None, booster=None, callbacks=None,\n",
       "             colsample_bylevel=None, colsample_bynode=None,\n",
       "             colsample_bytree=None, device=None, early_stopping_rounds=None,\n",
       "             enable_categorical=False, eval_metric=None, feature_types=None,\n",
       "             gamma=None, grow_policy=None, importance_type=None,\n",
       "             interaction_constraints=None, learning_rate=None, max_bin=None,\n",
       "             max_cat_threshold=None, max_cat_to_onehot=None,\n",
       "             max_delta_step=None, max_depth=None, max_leaves=None,\n",
       "             min_child_weight=None, missing=nan, monotone_constraints=None,\n",
       "             multi_strategy=None, n_estimators=100, n_jobs=None,\n",
       "             num_parallel_tree=None, random_state=None, ...)</pre></div></div></div></div></div>"
      ],
      "text/plain": [
       "XGBRegressor(base_score=None, booster=None, callbacks=None,\n",
       "             colsample_bylevel=None, colsample_bynode=None,\n",
       "             colsample_bytree=None, device=None, early_stopping_rounds=None,\n",
       "             enable_categorical=False, eval_metric=None, feature_types=None,\n",
       "             gamma=None, grow_policy=None, importance_type=None,\n",
       "             interaction_constraints=None, learning_rate=None, max_bin=None,\n",
       "             max_cat_threshold=None, max_cat_to_onehot=None,\n",
       "             max_delta_step=None, max_depth=None, max_leaves=None,\n",
       "             min_child_weight=None, missing=nan, monotone_constraints=None,\n",
       "             multi_strategy=None, n_estimators=100, n_jobs=None,\n",
       "             num_parallel_tree=None, random_state=None, ...)"
      ]
     },
     "execution_count": 65,
     "metadata": {},
     "output_type": "execute_result"
    }
   ],
   "source": [
    "# Train the model on the training set\n",
    "xgb_model = xgb.XGBRegressor(objective='reg:squarederror', n_estimators=100)\n",
    "xgb_model.fit(X_train, y_train)"
   ]
  },
  {
   "cell_type": "code",
   "execution_count": 66,
   "id": "6d676c46-4ec6-4245-8f21-56e3af3bdf80",
   "metadata": {},
   "outputs": [
    {
     "name": "stdout",
     "output_type": "stream",
     "text": [
      "[] CPU Usage: 99.4%\n",
      "[] Total System Memory: 16384.00 MB\n",
      "[] Available Memory: 4724.86 MB\n",
      "[] System Used Memory: 6873.30 MB\n",
      "[] Process Memory Usage: 226.25 MB\n"
     ]
    }
   ],
   "source": [
    "log_system_usage()"
   ]
  },
  {
   "cell_type": "code",
   "execution_count": 67,
   "id": "c0f0a3f4-e8d9-40e4-8c66-8c8bc32cf9b9",
   "metadata": {},
   "outputs": [
    {
     "ename": "FileNotFoundError",
     "evalue": "[Errno 2] No such file or directory: '../models/01388500_model_24.onnx'",
     "output_type": "error",
     "traceback": [
      "\u001b[0;31m---------------------------------------------------------------------------\u001b[0m",
      "\u001b[0;31mFileNotFoundError\u001b[0m                         Traceback (most recent call last)",
      "Cell \u001b[0;32mIn[67], line 7\u001b[0m\n\u001b[1;32m      5\u001b[0m \u001b[38;5;66;03m# Save the ONNX model\u001b[39;00m\n\u001b[1;32m      6\u001b[0m onnx_path \u001b[38;5;241m=\u001b[39m \u001b[38;5;124m\"\u001b[39m\u001b[38;5;124m../models/\u001b[39m\u001b[38;5;124m\"\u001b[39m\u001b[38;5;241m+\u001b[39m\u001b[38;5;28mstr\u001b[39m(site_code)\u001b[38;5;241m+\u001b[39m\u001b[38;5;124m\"\u001b[39m\u001b[38;5;124m_model_\u001b[39m\u001b[38;5;124m\"\u001b[39m\u001b[38;5;241m+\u001b[39m\u001b[38;5;28mstr\u001b[39m(forecast_length)\u001b[38;5;241m+\u001b[39m\u001b[38;5;124m\"\u001b[39m\u001b[38;5;124m.onnx\u001b[39m\u001b[38;5;124m\"\u001b[39m\n\u001b[0;32m----> 7\u001b[0m \u001b[38;5;28;01mwith\u001b[39;00m \u001b[38;5;28;43mopen\u001b[39;49m\u001b[43m(\u001b[49m\u001b[43monnx_path\u001b[49m\u001b[43m,\u001b[49m\u001b[43m \u001b[49m\u001b[38;5;124;43m\"\u001b[39;49m\u001b[38;5;124;43mwb\u001b[39;49m\u001b[38;5;124;43m\"\u001b[39;49m\u001b[43m)\u001b[49m \u001b[38;5;28;01mas\u001b[39;00m f:\n\u001b[1;32m      8\u001b[0m     f\u001b[38;5;241m.\u001b[39mwrite(onnx_model\u001b[38;5;241m.\u001b[39mSerializeToString())\n\u001b[1;32m      9\u001b[0m \u001b[38;5;28mprint\u001b[39m(\u001b[38;5;124mf\u001b[39m\u001b[38;5;124m\"\u001b[39m\u001b[38;5;124mModel exported to ONNX format as \u001b[39m\u001b[38;5;132;01m{\u001b[39;00monnx_path\u001b[38;5;132;01m}\u001b[39;00m\u001b[38;5;124m\"\u001b[39m)\n",
      "File \u001b[0;32m~/anaconda3/envs/py310/lib/python3.10/site-packages/IPython/core/interactiveshell.py:310\u001b[0m, in \u001b[0;36m_modified_open\u001b[0;34m(file, *args, **kwargs)\u001b[0m\n\u001b[1;32m    303\u001b[0m \u001b[38;5;28;01mif\u001b[39;00m file \u001b[38;5;129;01min\u001b[39;00m {\u001b[38;5;241m0\u001b[39m, \u001b[38;5;241m1\u001b[39m, \u001b[38;5;241m2\u001b[39m}:\n\u001b[1;32m    304\u001b[0m     \u001b[38;5;28;01mraise\u001b[39;00m \u001b[38;5;167;01mValueError\u001b[39;00m(\n\u001b[1;32m    305\u001b[0m         \u001b[38;5;124mf\u001b[39m\u001b[38;5;124m\"\u001b[39m\u001b[38;5;124mIPython won\u001b[39m\u001b[38;5;124m'\u001b[39m\u001b[38;5;124mt let you open fd=\u001b[39m\u001b[38;5;132;01m{\u001b[39;00mfile\u001b[38;5;132;01m}\u001b[39;00m\u001b[38;5;124m by default \u001b[39m\u001b[38;5;124m\"\u001b[39m\n\u001b[1;32m    306\u001b[0m         \u001b[38;5;124m\"\u001b[39m\u001b[38;5;124mas it is likely to crash IPython. If you know what you are doing, \u001b[39m\u001b[38;5;124m\"\u001b[39m\n\u001b[1;32m    307\u001b[0m         \u001b[38;5;124m\"\u001b[39m\u001b[38;5;124myou can use builtins\u001b[39m\u001b[38;5;124m'\u001b[39m\u001b[38;5;124m open.\u001b[39m\u001b[38;5;124m\"\u001b[39m\n\u001b[1;32m    308\u001b[0m     )\n\u001b[0;32m--> 310\u001b[0m \u001b[38;5;28;01mreturn\u001b[39;00m \u001b[43mio_open\u001b[49m\u001b[43m(\u001b[49m\u001b[43mfile\u001b[49m\u001b[43m,\u001b[49m\u001b[43m \u001b[49m\u001b[38;5;241;43m*\u001b[39;49m\u001b[43margs\u001b[49m\u001b[43m,\u001b[49m\u001b[43m \u001b[49m\u001b[38;5;241;43m*\u001b[39;49m\u001b[38;5;241;43m*\u001b[39;49m\u001b[43mkwargs\u001b[49m\u001b[43m)\u001b[49m\n",
      "\u001b[0;31mFileNotFoundError\u001b[0m: [Errno 2] No such file or directory: '../models/01388500_model_24.onnx'"
     ]
    }
   ],
   "source": [
    "# Convert the trained XGBoost model to ONNX format\n",
    "initial_type = [('float_input', FloatTensorType([None, X.shape[1]]))]\n",
    "onnx_model = convert_sklearn(xgb_model, initial_types=initial_type, target_opset={'ai.onnx.ml': 3})\n",
    "\n",
    "# Save the ONNX model\n",
    "onnx_path = \"../models/\"+str(site_code)+\"_model_\"+str(forecast_length)+\".onnx\"\n",
    "with open(onnx_path, \"wb\") as f:\n",
    "    f.write(onnx_model.SerializeToString())\n",
    "print(f\"Model exported to ONNX format as {onnx_path}\")\n",
    "\n",
    "# Test the ONNX model with ONNX Runtime\n",
    "session = InferenceSession(onnx_path)\n",
    "input_name = session.get_inputs()[0].name\n",
    "\n",
    "# Prepare the test set by dropping datetime and renaming columns\n",
    "X_test = X_test.drop(columns=['datetime'], errors='ignore')\n",
    "X_test.columns = [f\"f{i}\" for i in range(X_test.shape[1])]\n",
    "\n",
    "# Convert X_test to a numpy array for ONNX compatibility\n",
    "onnx_predictions = session.run(None, {input_name: X_test.to_numpy().astype(np.float32)})[0]\n",
    "\n",
    "# Validate ONNX predictions with the original model's predictions\n",
    "rmse_onnx = mean_squared_error(y_test, onnx_predictions, squared=False)\n",
    "print(f\"ONNX Model Test Set Root Mean Squared Error (RMSE): {rmse_onnx}\")\n"
   ]
  },
  {
   "cell_type": "code",
   "execution_count": null,
   "id": "27503290-c92b-4c77-8190-5abcba62e5de",
   "metadata": {},
   "outputs": [],
   "source": [
    "log_system_usage()"
   ]
  },
  {
   "cell_type": "code",
   "execution_count": null,
   "id": "18dd463d-d710-4566-a8b9-b4cff1a5de25",
   "metadata": {},
   "outputs": [],
   "source": []
  }
 ],
 "metadata": {
  "kernelspec": {
   "display_name": "Python 3 (ipykernel)",
   "language": "python",
   "name": "python3"
  },
  "language_info": {
   "codemirror_mode": {
    "name": "ipython",
    "version": 3
   },
   "file_extension": ".py",
   "mimetype": "text/x-python",
   "name": "python",
   "nbconvert_exporter": "python",
   "pygments_lexer": "ipython3",
   "version": "3.10.14"
  }
 },
 "nbformat": 4,
 "nbformat_minor": 5
}
